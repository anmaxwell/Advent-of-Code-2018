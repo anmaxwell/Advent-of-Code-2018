{
 "cells": [
  {
   "cell_type": "code",
   "execution_count": null,
   "metadata": {},
   "outputs": [],
   "source": [
    "#with open('/Users/Ania/input7.txt', 'r') as myfile:\n",
    "#    setorder = myfile.readlines()\n"
   ]
  },
  {
   "cell_type": "code",
   "execution_count": 18,
   "metadata": {},
   "outputs": [
    {
     "data": {
      "text/plain": [
       "6"
      ]
     },
     "execution_count": 18,
     "metadata": {},
     "output_type": "execute_result"
    }
   ],
   "source": [
    "import string\n",
    "alphacheck = list(string.ascii_uppercase)\n",
    "testalphacheck = alphacheck[0:6]\n",
    "len(testalphacheck)"
   ]
  },
  {
   "cell_type": "code",
   "execution_count": 19,
   "metadata": {
    "scrolled": true
   },
   "outputs": [],
   "source": [
    "with open('/Users/Ania/input7.txt', 'r') as myfile:\n",
    "    setorder = myfile.readlines()"
   ]
  },
  {
   "cell_type": "code",
   "execution_count": 20,
   "metadata": {},
   "outputs": [],
   "source": [
    "#puzzle 2"
   ]
  },
  {
   "cell_type": "code",
   "execution_count": 21,
   "metadata": {},
   "outputs": [
    {
     "name": "stdout",
     "output_type": "stream",
     "text": [
      "{'A': 61, 'B': 62, 'C': 63, 'D': 64, 'E': 65, 'F': 66, 'G': 67, 'H': 68, 'I': 69, 'J': 70, 'K': 71, 'L': 72, 'M': 73, 'N': 74, 'O': 75, 'P': 76, 'Q': 77, 'R': 78, 'S': 79, 'T': 80, 'U': 81, 'V': 82, 'W': 83, 'X': 84, 'Y': 85, 'Z': 86}\n"
     ]
    }
   ],
   "source": [
    "seconds = 0\n",
    "parttiming = {}\n",
    "order = []\n",
    "complete = []\n",
    "\n",
    "for count, letter in enumerate(alphacheck):\n",
    "    parttiming[letter]=count+61\n",
    "    \n",
    "print(parttiming)"
   ]
  },
  {
   "cell_type": "code",
   "execution_count": 22,
   "metadata": {},
   "outputs": [
    {
     "name": "stdout",
     "output_type": "stream",
     "text": [
      "['I', 'T', 'W'] 69\n",
      "['T', 'W', 'B', 'J', 'U'] 80\n",
      "['W', 'B', 'J', 'U'] 83\n",
      "['B', 'J', 'U', 'G'] 131\n",
      "['J', 'U', 'G'] 139\n",
      "['U', 'G'] 150\n",
      "['F', 'K'] 216\n",
      "['K'] 221\n",
      "['D'] 285\n",
      "['N'] 359\n",
      "['V', 'Y'] 441\n",
      "['Y', 'E'] 444\n",
      "['E', 'A', 'H', 'Q'] 505\n",
      "['E', 'H', 'Q', 'O'] 506\n",
      "['H', 'Q', 'O'] 512\n",
      "['Q', 'O'] 521\n",
      "['O'] 580\n",
      "['M'] 653\n",
      "['P'] 729\n",
      "['C'] 792\n",
      "['R'] 870\n",
      "['L'] 942\n",
      "['S'] 1021\n",
      "['Z'] 1107\n",
      "['X'] 1191\n",
      "[] {'A': -26, 'B': -44, 'C': -12, 'D': -34, 'E': -24, 'F': -38, 'G': -40, 'H': -22, 'I': -50, 'J': -42, 'K': -36, 'L': -8, 'M': -16, 'N': -32, 'O': -18, 'P': -14, 'Q': -20, 'R': -10, 'S': -6, 'T': -48, 'U': -40, 'V': -30, 'W': -46, 'X': -2, 'Y': -28, 'Z': -4} 1191 ['I', 'T', 'W', 'B', 'J', 'G', 'U', 'F', 'K', 'D', 'N', 'V', 'Y', 'A', 'E', 'H', 'Q', 'O', 'M', 'P', 'C', 'R', 'L', 'S', 'Z', 'X']\n"
     ]
    }
   ],
   "source": [
    "while len(alphacheck) != 0:\n",
    "\n",
    "    notavail = []\n",
    "    for step in setorder:\n",
    "        if step[5] not in complete:\n",
    "            actstep = step[36]\n",
    "            notavail.append(actstep)\n",
    "\n",
    "\n",
    "    for letter in alphacheck:\n",
    "        if letter not in notavail:\n",
    "            order.append(letter)\n",
    "            alphacheck.remove(letter)\n",
    "\n",
    "    while 0 not in parttiming.values():\n",
    "        for part in order:\n",
    "\n",
    "            parttiming[part]-=1\n",
    "        \n",
    "        seconds+=1\n",
    "    print(order, seconds)\n",
    "    for letter in parttiming:\n",
    "        if parttiming[letter] ==0:\n",
    "            order.pop(order.index(letter))\n",
    "            complete.append(letter)\n",
    "\n",
    "    for part in complete:\n",
    "        parttiming[part]-=2\n",
    "    \n",
    "print(order, parttiming, seconds, complete)"
   ]
  },
  {
   "cell_type": "code",
   "execution_count": 17,
   "metadata": {},
   "outputs": [
    {
     "data": {
      "text/plain": [
       "26"
      ]
     },
     "execution_count": 17,
     "metadata": {},
     "output_type": "execute_result"
    }
   ],
   "source": [
    "len(complete)"
   ]
  },
  {
   "cell_type": "code",
   "execution_count": null,
   "metadata": {},
   "outputs": [],
   "source": []
  },
  {
   "cell_type": "code",
   "execution_count": null,
   "metadata": {},
   "outputs": [],
   "source": []
  }
 ],
 "metadata": {
  "kernelspec": {
   "display_name": "Python 3",
   "language": "python",
   "name": "python3"
  },
  "language_info": {
   "codemirror_mode": {
    "name": "ipython",
    "version": 3
   },
   "file_extension": ".py",
   "mimetype": "text/x-python",
   "name": "python",
   "nbconvert_exporter": "python",
   "pygments_lexer": "ipython3",
   "version": "3.6.3"
  }
 },
 "nbformat": 4,
 "nbformat_minor": 2
}
