{
 "cells": [
  {
   "cell_type": "code",
   "execution_count": null,
   "metadata": {},
   "outputs": [],
   "source": [
    "# Advent of Code Day:6 puzzle:1\n",
    "\n",
    "'''\n",
    "What is the size of the largest area that isn't infinite?\n",
    "\n",
    "'''"
   ]
  },
  {
   "cell_type": "code",
   "execution_count": 1,
   "metadata": {
    "scrolled": true
   },
   "outputs": [],
   "source": [
    "coordinates = []\n",
    "with open('/Users/Ania/input6.txt', 'r') as myfile:\n",
    "    points = myfile.read().split(\"\\n\")\n",
    "    for point in points:\n",
    "        if point != '':\n",
    "            coordinates.append(list(map(int, point.split(','))))\n"
   ]
  },
  {
   "cell_type": "code",
   "execution_count": 2,
   "metadata": {},
   "outputs": [],
   "source": [
    "testcoord = [[1, 1], [1, 6], [8, 3], [3, 4], [5, 5], [8, 9]]\n",
    "\n",
    "testcoord1 = [[1, 1],  [3, 4],  [5, 5]]\n"
   ]
  },
  {
   "cell_type": "code",
   "execution_count": 3,
   "metadata": {},
   "outputs": [
    {
     "name": "stdout",
     "output_type": "stream",
     "text": [
      "46 356 45 357\n"
     ]
    }
   ],
   "source": [
    "maxhoriz = 0\n",
    "minhoriz = 1000\n",
    "maxvert = 0\n",
    "minvert = 1000\n",
    "for point in coordinates:\n",
    "    if point[0]> maxhoriz:\n",
    "        maxhoriz = point[0]\n",
    "    if point[0]< minhoriz:\n",
    "        minhoriz = point[0]\n",
    "    if point[1]> maxvert:\n",
    "        maxvert = point[1]\n",
    "    if point[1]< minvert:\n",
    "        minvert = point[1]\n",
    "    \n",
    "        \n",
    "print(minhoriz, maxhoriz, minvert, maxvert)"
   ]
  },
  {
   "cell_type": "code",
   "execution_count": 4,
   "metadata": {
    "scrolled": true
   },
   "outputs": [],
   "source": [
    "distances = {}\n",
    "\n",
    "for i in range(minhoriz,maxhoriz+1):\n",
    "    for j in range(minvert, maxvert+1):\n",
    "\n",
    "        gridsqr = i,j\n",
    "    \n",
    "        for point in coordinates:\n",
    "            manhdist = (abs(point[0]-i)+abs(point[1]-j))\n",
    "            \n",
    "            if gridsqr in distances:\n",
    "                distances[gridsqr].append(manhdist)\n",
    "            else:\n",
    "                distances[gridsqr] = [manhdist]\n",
    "                \n",
    "\n",
    "      "
   ]
  },
  {
   "cell_type": "code",
   "execution_count": 5,
   "metadata": {},
   "outputs": [],
   "source": [
    "closestcount={}\n",
    "edges=[]\n",
    "for grid in distances:\n",
    "    mindist = min(distances[grid])\n",
    "    closestcoor = [i for i, e in enumerate(distances[grid]) if e == mindist]\n",
    "\n",
    "    if len(closestcoor)==1:\n",
    "\n",
    "        if (grid[0] == minhoriz) or (grid[0] == maxhoriz) or (grid[1] == minvert) or (grid[1] == maxvert):\n",
    "            edges.append(closestcoor[0])\n",
    "             \n",
    "        if closestcoor[0] in closestcount:\n",
    "            closestcount[closestcoor[0]]+=1\n",
    "        else:\n",
    "            closestcount[closestcoor[0]]=1\n",
    "            "
   ]
  },
  {
   "cell_type": "code",
   "execution_count": 6,
   "metadata": {},
   "outputs": [
    {
     "name": "stdout",
     "output_type": "stream",
     "text": [
      "4976\n"
     ]
    }
   ],
   "source": [
    "infinitecoor = set(edges)\n",
    "largestcount = []\n",
    "for key in closestcount:\n",
    "\n",
    "    if key not in infinitecoor:\n",
    "        largestcount.append(closestcount[key])\n",
    "\n",
    "print(max(largestcount))"
   ]
  },
  {
   "cell_type": "code",
   "execution_count": 7,
   "metadata": {},
   "outputs": [],
   "source": [
    "#puzzle2"
   ]
  },
  {
   "cell_type": "code",
   "execution_count": 8,
   "metadata": {
    "scrolled": true
   },
   "outputs": [
    {
     "name": "stdout",
     "output_type": "stream",
     "text": [
      "46462\n"
     ]
    }
   ],
   "source": [
    "noinregion = 0\n",
    "for key in distances:\n",
    "    totdist = sum(distances[key])\n",
    "    if totdist<10000:\n",
    "        noinregion+=1\n",
    "        \n",
    "print(noinregion)"
   ]
  },
  {
   "cell_type": "code",
   "execution_count": null,
   "metadata": {},
   "outputs": [],
   "source": []
  }
 ],
 "metadata": {
  "kernelspec": {
   "display_name": "Python 3",
   "language": "python",
   "name": "python3"
  },
  "language_info": {
   "codemirror_mode": {
    "name": "ipython",
    "version": 3
   },
   "file_extension": ".py",
   "mimetype": "text/x-python",
   "name": "python",
   "nbconvert_exporter": "python",
   "pygments_lexer": "ipython3",
   "version": "3.6.3"
  }
 },
 "nbformat": 4,
 "nbformat_minor": 2
}
