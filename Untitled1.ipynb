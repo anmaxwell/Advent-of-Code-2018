{
 "cells": [
  {
   "cell_type": "code",
   "execution_count": 14,
   "metadata": {},
   "outputs": [
    {
     "name": "stdout",
     "output_type": "stream",
     "text": [
      "(101234, 6)\n",
      "{3: 100111, 6: 101234, 9: 92457, 2: 91528, 5: 92629, 8: 95351, 1: 97149, 4: 99396, 7: 95088, 10: 96910}\n"
     ]
    }
   ],
   "source": [
    "def marbleGame(noElves, noMarbles):\n",
    "    marbleCircle = [0,2,1]\n",
    "    scores = {}\n",
    "    currpos = 1\n",
    "    j=3\n",
    "    \n",
    "    for i in range(3,noMarbles):\n",
    "\n",
    "        lenCircle = len(marbleCircle)\n",
    "        \n",
    "        if i%23 == 0:\n",
    "                                    \n",
    "            if j in scores:         \n",
    "                scores[j]+=i\n",
    "            else:\n",
    "                scores[j]=i\n",
    "                                \n",
    "            if currpos >=7:\n",
    "                currpos-=7\n",
    "            else:\n",
    "                currpos = lenCircle - 7 + currpos\n",
    "            \n",
    "            scoreincr = marbleCircle.pop(currpos)\n",
    "            scores[j]+=scoreincr\n",
    "                        \n",
    "        else:\n",
    "            currpos += 2\n",
    "            \n",
    "            if currpos > lenCircle:\n",
    "                currpos -= lenCircle\n",
    "                \n",
    "            marbleCircle.insert(currpos, i)\n",
    "\n",
    "        if j ==noElves:\n",
    "            j=1\n",
    "        else:\n",
    "            j+=1\n",
    "\n",
    "#    print(marbleCircle)\n",
    "    print(max(zip(scores.values(), scores.keys())))\n",
    "    print(scores)\n",
    "            \n",
    "        \n",
    "        \n",
    "marbleGame(10, 5807)"
   ]
  },
  {
   "cell_type": "code",
   "execution_count": null,
   "metadata": {
    "collapsed": true
   },
   "outputs": [],
   "source": []
  }
 ],
 "metadata": {
  "kernelspec": {
   "display_name": "Python 3",
   "language": "python",
   "name": "python3"
  },
  "language_info": {
   "codemirror_mode": {
    "name": "ipython",
    "version": 3
   },
   "file_extension": ".py",
   "mimetype": "text/x-python",
   "name": "python",
   "nbconvert_exporter": "python",
   "pygments_lexer": "ipython3",
   "version": "3.6.1"
  }
 },
 "nbformat": 4,
 "nbformat_minor": 2
}
