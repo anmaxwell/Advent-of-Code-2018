{
 "cells": [
  {
   "cell_type": "code",
   "execution_count": null,
   "metadata": {
    "collapsed": true
   },
   "outputs": [],
   "source": [
    "# Advent of Code Day:5 puzzle:1\n",
    "'''\n",
    "How many units remain after fully reacting the polymer you scanned? \n",
    "'''"
   ]
  },
  {
   "cell_type": "code",
   "execution_count": 63,
   "metadata": {
    "collapsed": true
   },
   "outputs": [],
   "source": [
    "with open('/Users/aniamaxwell/Desktop/input5.txt', 'r') as myfile:\n",
    "  data = myfile.read()"
   ]
  },
  {
   "cell_type": "code",
   "execution_count": 64,
   "metadata": {
    "collapsed": true
   },
   "outputs": [],
   "source": [
    "data = data.rstrip('\\n')"
   ]
  },
  {
   "cell_type": "code",
   "execution_count": 65,
   "metadata": {},
   "outputs": [
    {
     "data": {
      "text/plain": [
       "50000"
      ]
     },
     "execution_count": 65,
     "metadata": {},
     "output_type": "execute_result"
    }
   ],
   "source": [
    "len(data)"
   ]
  },
  {
   "cell_type": "code",
   "execution_count": 77,
   "metadata": {
    "collapsed": true
   },
   "outputs": [],
   "source": [
    "test1 = 'dabAcCaCBAcCcaDA'\n",
    "test2 = 'abcd'\n",
    "test3 = 'abBCcdA'\n",
    "test4 = 'DACbBcaAbAcB'\n",
    "test5 = 'DAcCabBA'\n",
    "test6 = 'DACBbcaAbAcB'"
   ]
  },
  {
   "cell_type": "code",
   "execution_count": 82,
   "metadata": {
    "collapsed": true
   },
   "outputs": [],
   "source": [
    "testX = test1"
   ]
  },
  {
   "cell_type": "code",
   "execution_count": 83,
   "metadata": {},
   "outputs": [
    {
     "name": "stdout",
     "output_type": "stream",
     "text": [
      "10\n"
     ]
    }
   ],
   "source": [
    "scannedlist = [testX[0]]\n",
    "i=1\n",
    "while i <len(testX):\n",
    "    \n",
    "    check1 = scannedlist[-1]\n",
    "    check2 = testX[i]\n",
    "    #print(check1, check2)\n",
    "    if check1.islower() == check2.isupper():\n",
    "        #print(\"case don't match\")\n",
    "        if check1.lower() == check2.lower():\n",
    "            #print(\"same letter\", check1, check2)\n",
    "            scannedlist.pop()\n",
    "        else:\n",
    "            scannedlist.append(check2)\n",
    "    \n",
    "    else:\n",
    "        scannedlist.append(check2)\n",
    "    \n",
    "\n",
    "    i+=1\n",
    "    \n",
    "    \n",
    "print(len(scannedlist))"
   ]
  },
  {
   "cell_type": "code",
   "execution_count": null,
   "metadata": {
    "collapsed": true
   },
   "outputs": [],
   "source": [
    "\n",
    "\n"
   ]
  },
  {
   "cell_type": "code",
   "execution_count": null,
   "metadata": {
    "collapsed": true
   },
   "outputs": [],
   "source": []
  }
 ],
 "metadata": {
  "kernelspec": {
   "display_name": "Python 3",
   "language": "python",
   "name": "python3"
  },
  "language_info": {
   "codemirror_mode": {
    "name": "ipython",
    "version": 3
   },
   "file_extension": ".py",
   "mimetype": "text/x-python",
   "name": "python",
   "nbconvert_exporter": "python",
   "pygments_lexer": "ipython3",
   "version": "3.6.1"
  }
 },
 "nbformat": 4,
 "nbformat_minor": 2
}
