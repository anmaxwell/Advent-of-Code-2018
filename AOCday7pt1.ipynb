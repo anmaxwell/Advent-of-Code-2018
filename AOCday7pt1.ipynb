{
 "cells": [
  {
   "cell_type": "code",
   "execution_count": null,
   "metadata": {
    "collapsed": true
   },
   "outputs": [],
   "source": [
    "#with open('/Users/Ania/input7.txt', 'r') as myfile:\n",
    "#    setorder = myfile.readlines()\n"
   ]
  },
  {
   "cell_type": "code",
   "execution_count": null,
   "metadata": {
    "collapsed": true
   },
   "outputs": [],
   "source": [
    "import string\n",
    "alphacheck = list(string.ascii_uppercase)\n",
    "testalphacheck = alphacheck[0:6]\n",
    "len(testalphacheck)"
   ]
  },
  {
   "cell_type": "code",
   "execution_count": null,
   "metadata": {
    "collapsed": true,
    "scrolled": true
   },
   "outputs": [],
   "source": [
    "with open('/Users/Ania/input7a.txt', 'r') as myfile:\n",
    "    setorder = myfile.readlines()"
   ]
  },
  {
   "cell_type": "code",
   "execution_count": null,
   "metadata": {
    "collapsed": true
   },
   "outputs": [],
   "source": [
    "#puzzle 2"
   ]
  },
  {
   "cell_type": "code",
   "execution_count": null,
   "metadata": {
    "collapsed": true
   },
   "outputs": [],
   "source": [
    "seconds = 0\n",
    "parttiming = {}\n",
    "order = []\n",
    "complete = []\n",
    "\n",
    "\n",
    "for count, letter in enumerate(testalphacheck):\n",
    "    parttiming[letter]=count+1\n",
    "    \n",
    "print(parttiming)"
   ]
  },
  {
   "cell_type": "code",
   "execution_count": null,
   "metadata": {
    "collapsed": true
   },
   "outputs": [],
   "source": [
    "while len(testalphacheck) != 0:\n",
    "    print(len(complete),len(testalphacheck) )\n",
    "    notavail = []\n",
    "    for step in setorder:\n",
    "        if step[5] not in complete:\n",
    "            actstep = step[36]\n",
    "            notavail.append(actstep)\n",
    "\n",
    "\n",
    "    for letter in testalphacheck:\n",
    "        if letter not in notavail:\n",
    "            order.append(letter)\n",
    "            testalphacheck.remove(letter)\n",
    "    print(order)\n",
    "\n",
    "    while 0 not in parttiming.values():\n",
    "        for part in order:\n",
    "\n",
    "\n",
    "            parttiming[part]-=1\n",
    "            if parttiming[part] == 0:\n",
    "                completed = part\n",
    "            else:\n",
    "                seconds+=1\n",
    "\n",
    "        print(order, parttiming, seconds, complete)\n",
    "\n",
    "    for letter in parttiming:\n",
    "        if parttiming[letter] ==0:\n",
    "            order.pop(order.index(letter))\n",
    "            complete.append(letter)\n",
    "\n",
    "    for part in complete:\n",
    "        parttiming[part]-=2\n",
    "    \n",
    "print(order, parttiming, seconds, complete)"
   ]
  },
  {
   "cell_type": "code",
   "execution_count": null,
   "metadata": {
    "collapsed": true
   },
   "outputs": [],
   "source": [
    "len(complete)"
   ]
  },
  {
   "cell_type": "code",
   "execution_count": null,
   "metadata": {
    "collapsed": true
   },
   "outputs": [],
   "source": []
  },
  {
   "cell_type": "code",
   "execution_count": null,
   "metadata": {
    "collapsed": true
   },
   "outputs": [],
   "source": []
  }
 ],
 "metadata": {
  "kernelspec": {
   "display_name": "Python 3",
   "language": "python",
   "name": "python3"
  },
  "language_info": {
   "codemirror_mode": {
    "name": "ipython",
    "version": 3
   },
   "file_extension": ".py",
   "mimetype": "text/x-python",
   "name": "python",
   "nbconvert_exporter": "python",
   "pygments_lexer": "ipython3",
   "version": "3.6.1"
  }
 },
 "nbformat": 4,
 "nbformat_minor": 2
}
