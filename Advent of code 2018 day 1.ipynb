{
 "cells": [
  {
   "cell_type": "code",
   "execution_count": null,
   "metadata": {
    "collapsed": true
   },
   "outputs": [],
   "source": [
    "# Advent of Code Day:1 puzzle:1\n",
    "\n",
    "'''Day 1: Chronal Calibration\n",
    "\n",
    "Starting with a frequency of zero.\n",
    "What is the resulting frequency after all of the changes in frequency have been applied?\n",
    "\n",
    "'''\n",
    "\n",
    "inputfile = open('/Users/aniamaxwell/Desktop/input.txt', 'r')\n",
    "\n",
    "frequency = 0\n",
    "\n",
    "for line in inputfile:\n",
    "    amend = int(line)\n",
    "    frequency = frequency + amend\n",
    "    \n",
    "print(frequency)"
   ]
  },
  {
   "cell_type": "code",
   "execution_count": null,
   "metadata": {
    "collapsed": true
   },
   "outputs": [],
   "source": [
    "import itertools as it\n",
    "list(it.combinations_with_replacement([1, 2, 3], 3))"
   ]
  },
  {
   "cell_type": "code",
   "execution_count": null,
   "metadata": {
    "collapsed": true
   },
   "outputs": [],
   "source": [
    "list(it.combinations([1, 2, 3], 2))"
   ]
  },
  {
   "cell_type": "code",
   "execution_count": null,
   "metadata": {
    "collapsed": true
   },
   "outputs": [],
   "source": [
    "list(it.permutations([1, 2, 3], 3))"
   ]
  },
  {
   "cell_type": "code",
   "execution_count": null,
   "metadata": {
    "collapsed": true
   },
   "outputs": [],
   "source": [
    "bills = [20, 20, 20, 10, 10, 10, 10, 10, 5, 5, 1, 1, 1, 1, 1]\n",
    "\n",
    "makes_100 = []\n",
    "\n",
    "#goes through every combination of all the notes to find which total $100\n",
    "for n in range(1, len(bills) + 1):\n",
    "    for combination in it.combinations(bills, n):\n",
    "        if sum(combination) == 100:\n",
    "            makes_100.append(combination)\n",
    "\n",
    "#need to remove duplicate combinations\n",
    "print(len(set((makes_100))))"
   ]
  },
  {
   "cell_type": "code",
   "execution_count": null,
   "metadata": {},
   "outputs": [],
   "source": [
    "# Advent of Code Day:1 puzzle:1\n",
    "\n",
    "'''Day 1: Chronal Calibration\n",
    "\n",
    "Starting with a frequency of zero.\n",
    "What is the resulting frequency after all of the changes in frequency have been applied?\n",
    "\n",
    "'''\n",
    "\n",
    "import itertools as it\n",
    "\n",
    "inputfile = open('/Users/aniamaxwell/Desktop/input.txt', 'r')\n",
    "\n",
    "frequency = []\n",
    "\n",
    "for line in inputfile:\n",
    "    amend = int(line)\n",
    "    frequency.append(amend)\n",
    "    \n",
    "\n",
    "print(frequency)"
   ]
  },
  {
   "cell_type": "code",
   "execution_count": null,
   "metadata": {},
   "outputs": [],
   "source": [
    "# Advent of Code Day:1 puzzle:2\n",
    "\n",
    "'''Day 1: Chronal Calibration\n",
    "\n",
    "What is the first frequency your device reaches twice?\n",
    "\n",
    "'''\n",
    "import itertools\n",
    "\n",
    "#read in the values\n",
    "inputfile = open('/Users/aniamaxwell/Desktop/input.txt', 'r')\n",
    "\n",
    "list1 = []\n",
    "\n",
    "for line in inputfile:\n",
    "    amend = int(line)\n",
    "    list1.append(amend)\n",
    "    \n",
    "list2 = [+7, +7, -2, -7, -4]\n",
    "\n",
    "print(list2)"
   ]
  },
  {
   "cell_type": "code",
   "execution_count": null,
   "metadata": {},
   "outputs": [],
   "source": [
    "#set all parameters\n",
    "frequency = 0\n",
    "freqpatt = [0]\n",
    "\n",
    "\n",
    "for iterator in itertools.cycle(list1):\n",
    "    amend = int(iterator)\n",
    "    frequency = frequency + amend\n",
    "\n",
    "    if frequency in freqpatt:\n",
    "        print(f'The value is {frequency}')\n",
    "        break\n",
    "        \n",
    "    freqpatt.append(frequency)"
   ]
  },
  {
   "cell_type": "code",
   "execution_count": 2,
   "metadata": {},
   "outputs": [
    {
     "name": "stdout",
     "output_type": "stream",
     "text": [
      "The value is 10\n",
      "[0, 3, 6, 10, 8, 4, 7]\n"
     ]
    }
   ],
   "source": [
    "import itertools\n",
    "\n",
    "list = [+3, +3, +4, -2, -4]\n",
    "frequency = 0\n",
    "\n",
    "frequency = 0\n",
    "freqpatt = [0]\n",
    "\n",
    "for iterator in itertools.cycle(list):\n",
    "    amend = int(iterator)\n",
    "    frequency = frequency + amend\n",
    "\n",
    "    if frequency in freqpatt:\n",
    "        print(f'The value is {frequency}')\n",
    "        break\n",
    "        \n",
    "    freqpatt.append(frequency)\n",
    "\n",
    "print(freqpatt)"
   ]
  },
  {
   "cell_type": "code",
   "execution_count": 7,
   "metadata": {},
   "outputs": [
    {
     "name": "stdout",
     "output_type": "stream",
     "text": [
      "10\n"
     ]
    }
   ],
   "source": [
    "list = [+3, +3, +4, -2, -4]\n",
    "noduplicate = True\n",
    "frequency = 0\n",
    "frequencylist = [0]\n",
    "\n",
    "while noduplicate:\n",
    "    \n",
    "    for item in list:\n",
    "        amend = int(item)\n",
    "        frequency = frequency + amend\n",
    "        \n",
    "        if frequency in frequencylist:\n",
    "            print(frequency)\n",
    "            noduplicate = False\n",
    "            break\n",
    "            \n",
    "        frequencylist.append(frequency)\n",
    "        \n",
    "    \n",
    "    "
   ]
  },
  {
   "cell_type": "code",
   "execution_count": null,
   "metadata": {
    "collapsed": true
   },
   "outputs": [],
   "source": []
  }
 ],
 "metadata": {
  "kernelspec": {
   "display_name": "Python 3",
   "language": "python",
   "name": "python3"
  },
  "language_info": {
   "codemirror_mode": {
    "name": "ipython",
    "version": 3
   },
   "file_extension": ".py",
   "mimetype": "text/x-python",
   "name": "python",
   "nbconvert_exporter": "python",
   "pygments_lexer": "ipython3",
   "version": "3.6.1"
  }
 },
 "nbformat": 4,
 "nbformat_minor": 2
}
