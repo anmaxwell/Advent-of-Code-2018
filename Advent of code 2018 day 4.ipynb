{
 "cells": [
  {
   "cell_type": "code",
   "execution_count": null,
   "metadata": {
    "collapsed": true
   },
   "outputs": [],
   "source": [
    "# Advent of Code Day:4 puzzle:1\n",
    "'''\n",
    "Strategy 1: Find the guard that has the most minutes asleep. \n",
    "\n",
    "What minute does that guard spend asleep the most?\n",
    "'''"
   ]
  },
  {
   "cell_type": "code",
   "execution_count": 274,
   "metadata": {},
   "outputs": [],
   "source": [
    "claims = []\n",
    "inputfile = open('/Users/aniamaxwell/Desktop/input4.txt', 'r')\n",
    "for line in inputfile:\n",
    "    claims.append(line)\n",
    "    \n",
    "testclaims = claims"
   ]
  },
  {
   "cell_type": "code",
   "execution_count": 275,
   "metadata": {
    "collapsed": true
   },
   "outputs": [],
   "source": [
    "testclaims1 = ['[1518-11-01 00:00] Guard #10 begins shift\\n', '[1518-11-01 00:05] falls asleep\\n', \n",
    " '[1518-11-01 00:25] wakes up\\n','[1518-11-01 00:30] falls asleep\\n',\n",
    " '[1518-11-01 00:55] wakes up\\n', '[1518-11-01 23:58] Guard #99 begins shift\\n', \n",
    " '[1518-11-02 00:40] falls asleep\\n', '[1518-11-02 00:50] wakes up\\n', \n",
    " '[1518-11-03 00:05] Guard #10 begins shift\\n', '[1518-11-03 00:24] falls asleep\\n', \n",
    " '[1518-11-03 00:29] wakes up\\n', '[1518-11-04 00:02] Guard #99 begins shift\\n', \n",
    " '[1518-11-04 00:36] falls asleep\\n', '[1518-11-04 00:46] wakes up\\n', \n",
    " '[1518-11-05 00:03] Guard #99 begins shift\\n', '[1518-11-05 00:45] falls asleep\\n', \n",
    " '[1518-11-05 00:55] wakes up\\n']"
   ]
  },
  {
   "cell_type": "code",
   "execution_count": 276,
   "metadata": {},
   "outputs": [
    {
     "name": "stdout",
     "output_type": "stream",
     "text": [
      "['7-Mar-17', '25-Mar-17', '1-Nov-18', '5-Nov-18']\n"
     ]
    }
   ],
   "source": [
    "from datetime import datetime\n",
    "my_dates = ['5-Nov-18', '25-Mar-17', '1-Nov-18', '7-Mar-17']\n",
    "my_dates.sort(key=lambda date: datetime.strptime(date, \"%d-%b-%y\"))\n",
    "print(my_dates)"
   ]
  },
  {
   "cell_type": "code",
   "execution_count": 277,
   "metadata": {},
   "outputs": [
    {
     "name": "stdout",
     "output_type": "stream",
     "text": [
      "{'03-11 00:45': 'wakes up\\n', '07-13 00:13': 'falls asleep\\n', '11-02 23:56': 'Guard #3463 begins shift\\n', '11-13 00:59': 'wakes up\\n', '06-15 23:59': 'Guard #829 begins shift\\n', '08-16 00:03': 'Guard #1399 begins shift\\n', '09-18 00:19': 'wakes up\\n', '08-30 00:56': 'wakes up\\n', '04-22 00:32': 'falls asleep\\n', '10-07 00:41': 'wakes up\\n', '08-21 00:28': 'falls asleep\\n', '07-04 00:00': 'Guard #1699 begins shift\\n', '04-11 00:23': 'falls asleep\\n', '10-17 00:11': 'wakes up\\n', '08-23 23:56': 'Guard #3253 begins shift\\n', '04-29 00:51': 'wakes up\\n', '04-14 00:51': 'wakes up\\n', '05-28 00:36': 'falls asleep\\n', '04-02 23:58': 'Guard #3371 begins shift\\n', '07-11 00:54': 'wakes up\\n', '07-07 00:29': 'falls asleep\\n', '11-01 00:30': 'wakes up\\n', '09-18 23:56': 'Guard #1699 begins shift\\n', '03-27 00:08': 'falls asleep\\n', '07-21 00:37': 'falls asleep\\n', '10-30 00:00': 'Guard #463 begins shift\\n', '04-24 00:59': 'wakes up\\n', '11-18 00:52': 'wakes up\\n', '05-19 00:55': 'wakes up\\n', '04-28 00:44': 'wakes up\\n', '08-29 00:55': 'wakes up\\n', '06-14 00:57': 'falls asleep\\n', '03-17 00:21': 'falls asleep\\n', '03-31 00:14': 'falls asleep\\n', '09-09 23:57': 'Guard #73 begins shift\\n', '11-02 00:57': 'falls asleep\\n', '10-04 00:15': 'falls asleep\\n', '07-14 00:04': 'Guard #1759 begins shift\\n', '04-15 00:58': 'wakes up\\n', '09-09 00:56': 'wakes up\\n', '11-21 00:33': 'falls asleep\\n', '08-15 00:06': 'falls asleep\\n', '10-15 00:00': 'Guard #463 begins shift\\n', '07-03 00:56': 'falls asleep\\n', '05-17 00:41': 'wakes up\\n', '04-01 00:39': 'falls asleep\\n', '08-14 00:54': 'wakes up\\n', '05-25 00:51': 'wakes up\\n', '03-31 23:49': 'Guard #151 begins shift\\n', '09-12 00:34': 'wakes up\\n', '07-22 00:40': 'falls asleep\\n', '11-07 00:22': 'falls asleep\\n', '04-21 00:28': 'wakes up\\n', '07-31 23:59': 'Guard #151 begins shift\\n', '09-14 00:01': 'Guard #3463 begins shift\\n', '10-03 00:46': 'wakes up\\n', '03-22 00:57': 'wakes up\\n', '10-04 00:03': 'Guard #1913 begins shift\\n', '03-15 00:02': 'Guard #3463 begins shift\\n', '07-19 23:52': 'Guard #3253 begins shift\\n', '09-12 00:47': 'falls asleep\\n', '09-27 00:35': 'falls asleep\\n', '03-05 00:28': 'falls asleep\\n', '10-26 23:57': 'Guard #73 begins shift\\n', '09-30 00:00': 'Guard #1861 begins shift\\n', '09-28 00:25': 'wakes up\\n', '07-02 00:44': 'wakes up\\n', '05-08 00:47': 'wakes up\\n', '07-24 23:59': 'Guard #653 begins shift\\n', '08-06 00:16': 'wakes up\\n', '06-20 00:40': 'wakes up\\n', '11-16 00:08': 'falls asleep\\n', '06-28 00:57': 'wakes up\\n', '04-15 00:00': 'Guard #463 begins shift\\n', '07-03 00:52': 'wakes up\\n', '10-06 00:02': 'Guard #1861 begins shift\\n', '09-02 00:10': 'falls asleep\\n', '06-13 00:55': 'wakes up\\n', '07-23 00:35': 'wakes up\\n', '08-08 23:50': 'Guard #151 begins shift\\n', '09-04 00:25': 'wakes up\\n', '05-03 00:48': 'falls asleep\\n', '03-28 00:41': 'wakes up\\n', '04-21 00:43': 'wakes up\\n', '05-16 00:00': 'Guard #1861 begins shift\\n', '03-04 00:12': 'falls asleep\\n', '07-26 23:57': 'Guard #151 begins shift\\n', '03-07 23:48': 'Guard #1069 begins shift\\n', '04-06 00:43': 'falls asleep\\n', '10-23 00:51': 'falls asleep\\n', '11-21 00:58': 'wakes up\\n', '11-01 00:38': 'falls asleep\\n', '08-15 00:26': 'falls asleep\\n', '09-29 00:59': 'wakes up\\n', '08-06 00:58': 'wakes up\\n', '11-11 00:19': 'falls asleep\\n', '07-08 23:58': 'Guard #1597 begins shift\\n', '03-25 00:32': 'falls asleep\\n', '11-13 00:31': 'wakes up\\n', '06-03 00:15': 'wakes up\\n', '02-28 00:03': 'Guard #463 begins shift\\n', '11-20 00:07': 'falls asleep\\n', '10-16 00:53': 'wakes up\\n', '08-14 00:03': 'Guard #3469 begins shift\\n', '10-18 00:03': 'Guard #73 begins shift\\n', '04-21 00:38': 'falls asleep\\n', '04-08 00:49': 'wakes up\\n', '11-14 00:32': 'wakes up\\n', '03-14 00:58': 'wakes up\\n', '04-21 00:07': 'falls asleep\\n', '07-29 00:02': 'Guard #1597 begins shift\\n', '11-21 00:21': 'wakes up\\n', '09-22 00:27': 'falls asleep\\n', '11-19 00:11': 'falls asleep\\n', '03-18 00:59': 'wakes up\\n', '08-27 00:58': 'wakes up\\n', '09-18 00:53': 'wakes up\\n', '09-24 00:33': 'wakes up\\n', '06-01 00:56': 'wakes up\\n', '08-26 00:40': 'falls asleep\\n', '09-20 00:30': 'falls asleep\\n', '06-07 00:52': 'wakes up\\n', '11-13 00:50': 'falls asleep\\n', '07-19 00:43': 'falls asleep\\n', '11-19 00:04': 'Guard #653 begins shift\\n', '10-07 00:51': 'falls asleep\\n', '07-20 00:26': 'falls asleep\\n', '03-02 00:30': 'wakes up\\n', '09-26 00:40': 'wakes up\\n', '10-27 00:29': 'falls asleep\\n', '04-29 23:58': 'Guard #523 begins shift\\n', '03-16 00:34': 'wakes up\\n', '11-22 00:28': 'falls asleep\\n', '09-26 23:59': 'Guard #1759 begins shift\\n', '03-16 00:23': 'falls asleep\\n', '03-21 00:12': 'falls asleep\\n', '11-19 23:56': 'Guard #1399 begins shift\\n', '04-13 23:56': 'Guard #463 begins shift\\n', '06-15 00:46': 'wakes up\\n', '10-21 00:02': 'Guard #73 begins shift\\n', '11-05 00:18': 'falls asleep\\n', '03-10 23:59': 'Guard #829 begins shift\\n', '09-08 00:01': 'Guard #151 begins shift\\n', '07-21 00:17': 'falls asleep\\n', '04-19 00:05': 'falls asleep\\n', '04-05 23:49': 'Guard #389 begins shift\\n', '11-04 00:59': 'wakes up\\n', '08-13 00:17': 'falls asleep\\n', '02-27 00:01': 'Guard #2557 begins shift\\n', '09-20 00:02': 'Guard #1069 begins shift\\n', '11-07 00:25': 'wakes up\\n', '06-02 23:58': 'Guard #1069 begins shift\\n', '03-20 00:26': 'wakes up\\n', '03-30 00:02': 'Guard #1759 begins shift\\n', '05-04 00:05': 'falls asleep\\n', '06-07 23:49': 'Guard #653 begins shift\\n', '05-01 00:03': 'falls asleep\\n', '08-22 23:57': 'Guard #2557 begins shift\\n', '10-29 00:43': 'wakes up\\n', '03-06 00:54': 'falls asleep\\n', '05-02 00:03': 'Guard #1913 begins shift\\n', '07-03 00:59': 'wakes up\\n', '09-04 00:45': 'wakes up\\n', '06-18 00:17': 'falls asleep\\n', '05-08 00:53': 'falls asleep\\n', '11-15 00:58': 'wakes up\\n', '06-13 00:24': 'wakes up\\n', '08-05 00:51': 'wakes up\\n', '05-31 23:54': 'Guard #463 begins shift\\n', '04-05 00:36': 'falls asleep\\n', '06-04 00:15': 'wakes up\\n', '09-14 23:57': 'Guard #151 begins shift\\n', '04-20 00:01': 'Guard #1861 begins shift\\n', '05-23 23:50': 'Guard #1759 begins shift\\n', '05-08 00:43': 'falls asleep\\n', '10-30 23:59': 'Guard #829 begins shift\\n', '05-17 00:55': 'wakes up\\n', '07-15 00:20': 'wakes up\\n', '07-20 00:00': 'falls asleep\\n', '10-03 00:50': 'falls asleep\\n', '08-31 00:55': 'wakes up\\n', '07-28 00:00': 'Guard #151 begins shift\\n', '02-27 00:57': 'wakes up\\n', '07-05 00:43': 'falls asleep\\n', '07-27 00:29': 'falls asleep\\n', '08-26 00:04': 'Guard #1699 begins shift\\n', '09-12 00:12': 'falls asleep\\n', '10-24 00:21': 'falls asleep\\n', '04-17 00:03': 'falls asleep\\n', '04-12 00:47': 'wakes up\\n', '05-05 00:52': 'wakes up\\n', '06-30 00:24': 'falls asleep\\n', '08-13 00:00': 'Guard #3463 begins shift\\n', '05-07 00:38': 'falls asleep\\n', '08-10 23:46': 'Guard #829 begins shift\\n', '07-18 00:50': 'falls asleep\\n', '09-27 23:59': 'Guard #1123 begins shift\\n', '09-30 00:42': 'wakes up\\n', '04-18 00:03': 'falls asleep\\n', '07-15 00:36': 'wakes up\\n', '11-17 00:51': 'falls asleep\\n', '05-03 00:31': 'falls asleep\\n', '10-20 00:46': 'wakes up\\n', '08-19 00:47': 'falls asleep\\n', '03-22 00:20': 'falls asleep\\n', '06-06 00:17': 'falls asleep\\n', '09-13 00:58': 'wakes up\\n', '04-01 00:13': 'wakes up\\n', '07-09 00:28': 'falls asleep\\n', '05-10 00:43': 'falls asleep\\n', '08-02 00:45': 'falls asleep\\n', '08-18 00:04': 'Guard #337 begins shift\\n', '06-04 23:59': 'Guard #1069 begins shift\\n', '05-08 00:57': 'wakes up\\n', '06-13 00:10': 'falls asleep\\n', '06-17 00:26': 'wakes up\\n', '02-25 00:29': 'wakes up\\n', '08-20 00:56': 'wakes up\\n', '10-17 00:57': 'wakes up\\n', '09-18 00:48': 'falls asleep\\n', '08-12 00:48': 'wakes up\\n', '11-01 00:06': 'falls asleep\\n', '07-23 00:07': 'falls asleep\\n', '04-16 00:42': 'falls asleep\\n', '04-06 00:28': 'wakes up\\n', '10-05 00:47': 'falls asleep\\n', '11-10 23:59': 'Guard #1759 begins shift\\n', '07-08 00:27': 'wakes up\\n', '04-04 00:07': 'falls asleep\\n', '02-25 00:17': 'falls asleep\\n', '04-12 23:59': 'Guard #2557 begins shift\\n', '08-07 00:55': 'wakes up\\n', '06-03 00:51': 'wakes up\\n', '07-28 00:32': 'wakes up\\n', '08-26 00:51': 'falls asleep\\n', '09-23 23:56': 'Guard #1699 begins shift\\n', '04-22 00:42': 'wakes up\\n', '03-14 00:57': 'falls asleep\\n', '10-02 00:48': 'wakes up\\n', '03-03 00:24': 'falls asleep\\n', '04-27 00:58': 'wakes up\\n', '10-06 00:54': 'wakes up\\n', '05-14 00:55': 'falls asleep\\n', '11-04 00:02': 'Guard #1123 begins shift\\n', '04-24 00:54': 'falls asleep\\n', '09-16 23:57': 'Guard #1069 begins shift\\n', '05-30 23:48': 'Guard #523 begins shift\\n', '09-23 00:15': 'falls asleep\\n', '05-08 23:48': 'Guard #1069 begins shift\\n', '03-24 00:25': 'falls asleep\\n', '04-23 00:29': 'wakes up\\n', '04-27 00:03': 'Guard #151 begins shift\\n', '06-30 23:58': 'Guard #1123 begins shift\\n', '02-27 00:27': 'falls asleep\\n', '06-13 00:00': 'Guard #1759 begins shift\\n', '04-04 00:29': 'wakes up\\n', '03-08 23:57': 'Guard #3469 begins shift\\n', '05-19 23:50': 'Guard #389 begins shift\\n', '06-03 23:58': 'Guard #463 begins shift\\n', '11-10 00:08': 'falls asleep\\n', '11-13 00:25': 'falls asleep\\n', '06-14 00:59': 'wakes up\\n', '03-27 00:47': 'wakes up\\n', '07-20 23:57': 'Guard #463 begins shift\\n', '04-16 23:51': 'Guard #523 begins shift\\n', '10-06 00:53': 'falls asleep\\n', '08-19 00:54': 'wakes up\\n', '10-02 00:58': 'wakes up\\n', '08-28 23:49': 'Guard #3469 begins shift\\n', '02-26 00:07': 'falls asleep\\n', '03-04 00:21': 'wakes up\\n', '09-09 00:20': 'falls asleep\\n', '07-15 00:39': 'falls asleep\\n', '03-18 00:01': 'Guard #1597 begins shift\\n', '03-30 00:48': 'wakes up\\n', '06-04 00:38': 'falls asleep\\n', '10-07 00:56': 'wakes up\\n', '10-24 00:03': 'Guard #463 begins shift\\n', '10-03 00:24': 'falls asleep\\n', '09-15 00:49': 'wakes up\\n', '06-22 00:58': 'wakes up\\n', '07-11 00:00': 'Guard #463 begins shift\\n', '03-23 00:37': 'wakes up\\n', '06-27 00:44': 'falls asleep\\n', '08-27 00:31': 'wakes up\\n', '07-07 00:35': 'wakes up\\n', '11-10 00:49': 'falls asleep\\n', '10-30 00:51': 'wakes up\\n', '08-29 00:47': 'falls asleep\\n', '03-20 00:40': 'wakes up\\n', '10-02 23:59': 'Guard #463 begins shift\\n', '08-27 00:01': 'Guard #1597 begins shift\\n', '06-14 00:44': 'falls asleep\\n', '10-09 00:59': 'wakes up\\n', '07-17 00:00': 'Guard #1861 begins shift\\n', '11-23 00:12': 'falls asleep\\n', '05-16 00:58': 'wakes up\\n', '11-02 00:00': 'Guard #389 begins shift\\n', '05-31 00:00': 'falls asleep\\n', '04-30 00:20': 'falls asleep\\n', '03-20 00:55': 'falls asleep\\n', '09-21 00:40': 'falls asleep\\n', '06-27 00:46': 'wakes up\\n', '09-14 00:56': 'falls asleep\\n', '07-29 00:58': 'wakes up\\n', '03-04 00:57': 'wakes up\\n', '10-24 00:55': 'wakes up\\n', '03-22 00:53': 'falls asleep\\n', '03-13 00:38': 'wakes up\\n', '07-31 00:43': 'falls asleep\\n', '04-20 00:15': 'wakes up\\n', '06-26 00:57': 'wakes up\\n', '03-06 00:00': 'Guard #3463 begins shift\\n', '08-02 00:50': 'wakes up\\n', '11-14 00:01': 'Guard #523 begins shift\\n', '10-12 00:47': 'wakes up\\n', '08-17 00:45': 'falls asleep\\n', '04-06 00:25': 'falls asleep\\n', '06-19 00:00': 'Guard #389 begins shift\\n', '05-17 00:49': 'falls asleep\\n', '10-14 00:04': 'Guard #1699 begins shift\\n', '04-19 00:33': 'falls asleep\\n', '11-08 23:56': 'Guard #1913 begins shift\\n', '07-06 00:42': 'falls asleep\\n', '04-26 00:48': 'wakes up\\n', '03-11 00:09': 'falls asleep\\n', '08-02 00:59': 'wakes up\\n', '07-18 23:56': 'Guard #3469 begins shift\\n', '06-17 00:48': 'wakes up\\n', '04-26 00:00': 'Guard #829 begins shift\\n', '08-19 00:00': 'Guard #2557 begins shift\\n', '07-02 23:57': 'Guard #653 begins shift\\n', '03-28 00:00': 'Guard #829 begins shift\\n', '05-18 00:17': 'falls asleep\\n', '06-20 00:52': 'wakes up\\n', '06-27 23:57': 'Guard #73 begins shift\\n', '09-12 23:50': 'Guard #1861 begins shift\\n', '08-06 00:01': 'falls asleep\\n', '10-21 00:35': 'falls asleep\\n', '10-31 00:39': 'wakes up\\n', '10-15 23:54': 'Guard #3463 begins shift\\n', '08-26 00:21': 'falls asleep\\n', '09-16 00:00': 'Guard #653 begins shift\\n', '04-20 00:18': 'falls asleep\\n', '10-08 23:46': 'Guard #1597 begins shift\\n', '07-26 00:01': 'falls asleep\\n', '03-03 00:37': 'wakes up\\n', '08-21 00:48': 'falls asleep\\n', '04-28 00:10': 'falls asleep\\n', '09-25 00:40': 'falls asleep\\n', '03-09 00:50': 'falls asleep\\n', '09-01 00:00': 'Guard #3463 begins shift\\n', '05-01 00:29': 'wakes up\\n', '11-10 00:35': 'wakes up\\n', '04-04 00:00': 'Guard #3463 begins shift\\n', '09-19 00:17': 'falls asleep\\n', '03-17 00:56': 'falls asleep\\n', '09-07 00:39': 'falls asleep\\n', '04-14 00:37': 'wakes up\\n', '10-03 00:57': 'wakes up\\n', '04-26 00:18': 'falls asleep\\n', '04-06 00:12': 'wakes up\\n', '08-23 00:41': 'falls asleep\\n', '11-10 00:46': 'wakes up\\n', '09-12 00:51': 'wakes up\\n', '03-05 00:52': 'wakes up\\n', '11-23 00:00': 'Guard #1123 begins shift\\n', '05-22 00:04': 'Guard #463 begins shift\\n', '09-11 00:19': 'falls asleep\\n', '06-13 00:45': 'falls asleep\\n', '04-14 00:17': 'falls asleep\\n', '07-15 00:35': 'falls asleep\\n', '05-06 00:57': 'wakes up\\n', '10-30 00:32': 'wakes up\\n', '06-30 00:54': 'wakes up\\n', '05-13 00:58': 'wakes up\\n', '08-09 00:00': 'falls asleep\\n', '07-16 00:10': 'wakes up\\n', '10-09 00:45': 'wakes up\\n', '07-06 00:52': 'wakes up\\n', '02-26 00:49': 'wakes up\\n', '06-06 23:58': 'Guard #1399 begins shift\\n', '05-18 00:27': 'wakes up\\n', '03-05 00:30': 'wakes up\\n', '10-01 00:47': 'falls asleep\\n', '08-19 00:17': 'falls asleep\\n', '07-30 00:32': 'falls asleep\\n', '06-27 00:59': 'wakes up\\n', '08-25 00:49': 'falls asleep\\n', '05-30 00:51': 'wakes up\\n', '07-25 00:29': 'falls asleep\\n', '09-11 00:32': 'falls asleep\\n', '10-25 00:44': 'falls asleep\\n', '05-25 23:56': 'Guard #151 begins shift\\n', '05-20 23:59': 'Guard #337 begins shift\\n', '04-13 00:34': 'falls asleep\\n', '03-05 00:40': 'falls asleep\\n', '09-26 00:03': 'Guard #1123 begins shift\\n', '07-20 00:33': 'falls asleep\\n', '08-19 23:58': 'Guard #1597 begins shift\\n', '06-18 00:04': 'Guard #2333 begins shift\\n', '08-10 00:46': 'wakes up\\n', '09-17 00:55': 'wakes up\\n', '08-15 00:09': 'wakes up\\n', '04-15 00:51': 'wakes up\\n', '06-02 00:59': 'wakes up\\n', '03-10 00:00': 'Guard #1399 begins shift\\n', '11-12 00:01': 'Guard #523 begins shift\\n', '11-17 00:14': 'falls asleep\\n', '03-24 00:40': 'falls asleep\\n', '10-19 23:50': 'Guard #1399 begins shift\\n', '05-28 23:58': 'Guard #151 begins shift\\n', '07-01 23:56': 'Guard #829 begins shift\\n', '11-15 00:26': 'falls asleep\\n', '11-09 00:13': 'falls asleep\\n', '09-11 00:20': 'wakes up\\n', '08-16 00:36': 'wakes up\\n', '07-12 00:10': 'falls asleep\\n', '05-09 00:23': 'wakes up\\n', '08-30 23:59': 'Guard #1123 begins shift\\n', '09-05 00:28': 'wakes up\\n', '10-04 00:48': 'wakes up\\n', '08-21 00:58': 'wakes up\\n', '07-20 00:27': 'wakes up\\n', '06-23 00:23': 'falls asleep\\n', '08-01 00:48': 'wakes up\\n', '08-27 00:44': 'falls asleep\\n', '04-05 00:52': 'falls asleep\\n', '10-13 00:04': 'Guard #3469 begins shift\\n', '10-07 00:03': 'Guard #1861 begins shift\\n', '07-20 00:53': 'wakes up\\n', '03-09 00:59': 'wakes up\\n', '09-06 00:41': 'wakes up\\n', '08-25 00:57': 'wakes up\\n', '06-24 00:42': 'wakes up\\n', '09-07 00:00': 'Guard #151 begins shift\\n', '07-13 00:22': 'wakes up\\n', '08-25 00:02': 'Guard #463 begins shift\\n', '03-29 00:45': 'falls asleep\\n', '07-28 00:59': 'wakes up\\n', '09-27 00:59': 'wakes up\\n', '06-09 00:54': 'wakes up\\n', '08-30 00:32': 'falls asleep\\n', '08-24 00:43': 'wakes up\\n', '09-23 00:19': 'wakes up\\n', '10-18 00:11': 'falls asleep\\n', '08-24 00:25': 'falls asleep\\n', '05-13 00:41': 'falls asleep\\n', '04-23 00:36': 'falls asleep\\n', '05-04 00:50': 'wakes up\\n', '10-08 00:01': 'Guard #463 begins shift\\n', '04-25 00:48': 'wakes up\\n', '03-20 00:33': 'falls asleep\\n', '08-03 23:56': 'Guard #1699 begins shift\\n', '04-13 00:10': 'falls asleep\\n', '06-14 23:57': 'Guard #2333 begins shift\\n', '08-15 00:01': 'Guard #1699 begins shift\\n', '06-23 00:49': 'falls asleep\\n', '08-08 00:42': 'falls asleep\\n', '09-09 00:51': 'falls asleep\\n', '07-16 00:04': 'falls asleep\\n', '03-26 00:04': 'Guard #523 begins shift\\n', '06-06 00:53': 'wakes up\\n', '06-14 00:02': 'falls asleep\\n', '04-05 00:39': 'wakes up\\n', '06-23 00:35': 'wakes up\\n', '10-13 00:44': 'falls asleep\\n', '04-24 00:27': 'wakes up\\n', '11-17 00:40': 'wakes up\\n', '05-22 23:59': 'Guard #1171 begins shift\\n', '02-26 00:37': 'falls asleep\\n', '04-15 23:57': 'Guard #463 begins shift\\n', '05-15 00:01': 'Guard #2333 begins shift\\n', '10-10 00:31': 'falls asleep\\n', '11-12 23:59': 'Guard #1913 begins shift\\n', '08-21 00:45': 'wakes up\\n', '06-12 00:55': 'wakes up\\n', '07-20 00:56': 'falls asleep\\n', '09-29 00:33': 'falls asleep\\n', '10-02 00:05': 'falls asleep\\n', '09-24 23:56': 'Guard #1861 begins shift\\n', '10-22 00:45': 'wakes up\\n', '06-21 00:33': 'falls asleep\\n', '05-05 00:04': 'Guard #2333 begins shift\\n', '08-04 00:53': 'wakes up\\n', '05-13 00:02': 'Guard #829 begins shift\\n', '10-15 00:57': 'wakes up\\n', '05-27 00:00': 'Guard #2333 begins shift\\n', '11-03 00:39': 'wakes up\\n', '09-08 00:51': 'wakes up\\n', '03-18 00:52': 'falls asleep\\n', '11-04 00:51': 'wakes up\\n', '10-22 00:06': 'falls asleep\\n', '05-04 00:59': 'wakes up\\n', '06-17 00:17': 'falls asleep\\n', '07-15 00:00': 'Guard #3469 begins shift\\n', '08-16 00:40': 'falls asleep\\n', '06-29 00:44': 'wakes up\\n', '11-07 00:04': 'Guard #463 begins shift\\n', '04-08 00:07': 'falls asleep\\n', '10-19 00:34': 'falls asleep\\n', '10-19 00:58': 'wakes up\\n', '07-21 00:20': 'wakes up\\n', '10-23 00:57': 'wakes up\\n', '03-01 00:46': 'wakes up\\n', '10-11 23:50': 'Guard #3469 begins shift\\n', '08-28 00:59': 'wakes up\\n', '07-08 00:22': 'falls asleep\\n', '08-22 00:18': 'falls asleep\\n', '10-29 00:04': 'falls asleep\\n', '11-14 23:56': 'Guard #653 begins shift\\n', '06-14 00:49': 'wakes up\\n', '06-22 00:34': 'falls asleep\\n', '08-04 00:35': 'falls asleep\\n', '07-31 00:11': 'falls asleep\\n', '11-07 00:33': 'falls asleep\\n', '09-30 00:34': 'falls asleep\\n', '09-22 00:50': 'wakes up\\n', '08-21 00:56': 'falls asleep\\n', '11-19 00:50': 'falls asleep\\n', '07-29 23:58': 'Guard #2557 begins shift\\n', '08-23 00:28': 'wakes up\\n', '08-20 00:42': 'falls asleep\\n', '08-25 00:35': 'falls asleep\\n', '07-15 00:48': 'wakes up\\n', '07-10 00:03': 'Guard #463 begins shift\\n', '03-31 00:46': 'wakes up\\n', '10-13 00:35': 'falls asleep\\n', '05-19 00:00': 'Guard #1069 begins shift\\n', '05-04 00:56': 'falls asleep\\n', '06-15 00:21': 'falls asleep\\n', '03-12 00:19': 'falls asleep\\n', '10-14 00:24': 'falls asleep\\n', '05-11 23:50': 'Guard #1759 begins shift\\n', '04-24 00:10': 'falls asleep\\n', '08-10 00:21': 'falls asleep\\n', '07-14 00:39': 'falls asleep\\n', '10-17 00:19': 'falls asleep\\n', '05-01 00:32': 'falls asleep\\n', '05-05 23:56': 'Guard #389 begins shift\\n', '07-27 00:43': 'wakes up\\n', '05-05 00:15': 'falls asleep\\n', '05-22 00:26': 'falls asleep\\n', '05-22 00:57': 'wakes up\\n', '09-08 23:56': 'Guard #73 begins shift\\n', '10-10 00:42': 'wakes up\\n', '07-18 00:45': 'wakes up\\n', '11-18 00:03': 'Guard #1759 begins shift\\n', '05-03 00:01': 'Guard #523 begins shift\\n', '10-28 00:04': 'Guard #337 begins shift\\n', '09-02 00:50': 'falls asleep\\n', '05-11 00:00': 'Guard #1171 begins shift\\n', '07-30 00:21': 'falls asleep\\n', '03-22 00:15': 'wakes up\\n', '08-12 00:01': 'falls asleep\\n', '07-12 00:02': 'Guard #3463 begins shift\\n', '09-10 00:25': 'falls asleep\\n', '09-17 00:39': 'wakes up\\n', '09-17 00:36': 'falls asleep\\n', '08-31 00:13': 'falls asleep\\n', '11-04 00:47': 'falls asleep\\n', '10-16 00:03': 'falls asleep\\n', '05-16 00:43': 'wakes up\\n', '09-29 00:03': 'Guard #1759 begins shift\\n', '08-03 00:30': 'falls asleep\\n', '10-06 00:39': 'wakes up\\n', '05-06 00:19': 'falls asleep\\n', '06-10 00:51': 'wakes up\\n', '06-11 23:59': 'Guard #1699 begins shift\\n', '05-18 00:58': 'wakes up\\n', '07-19 00:20': 'falls asleep\\n', '10-10 23:58': 'Guard #829 begins shift\\n', '07-01 00:17': 'falls asleep\\n', '06-26 00:00': 'Guard #523 begins shift\\n', '11-16 00:21': 'wakes up\\n', '07-30 00:27': 'wakes up\\n', '04-21 00:00': 'Guard #1399 begins shift\\n', '06-23 00:11': 'falls asleep\\n', '08-07 00:00': 'Guard #1759 begins shift\\n', '05-27 00:58': 'wakes up\\n', '08-11 00:01': 'falls asleep\\n', '09-23 00:58': 'wakes up\\n', '06-11 00:01': 'Guard #2557 begins shift\\n', '11-09 00:44': 'falls asleep\\n', '10-01 00:00': 'Guard #463 begins shift\\n', '09-07 00:16': 'wakes up\\n', '08-11 23:46': 'Guard #523 begins shift\\n', '07-29 00:25': 'falls asleep\\n', '03-01 00:03': 'Guard #1123 begins shift\\n', '03-10 00:14': 'falls asleep\\n', '08-20 00:21': 'falls asleep\\n', '05-09 00:02': 'falls asleep\\n', '05-13 23:46': 'Guard #3253 begins shift\\n', '08-27 23:56': 'Guard #151 begins shift\\n', '10-27 00:22': 'wakes up\\n', '07-15 00:56': 'falls asleep\\n', '08-09 00:52': 'wakes up\\n', '05-16 00:32': 'falls asleep\\n', '08-16 00:47': 'wakes up\\n', '05-07 00:55': 'falls asleep\\n', '09-14 00:57': 'wakes up\\n', '05-14 00:42': 'falls asleep\\n', '10-09 23:59': 'Guard #2333 begins shift\\n', '11-01 00:59': 'wakes up\\n', '07-13 00:43': 'falls asleep\\n', '05-28 00:01': 'Guard #1759 begins shift\\n', '11-22 00:43': 'wakes up\\n', '05-07 00:57': 'wakes up\\n', '04-07 00:48': 'wakes up\\n', '11-12 00:46': 'wakes up\\n', '04-20 00:06': 'falls asleep\\n', '08-08 00:54': 'wakes up\\n', '10-20 00:03': 'falls asleep\\n', '02-26 00:14': 'wakes up\\n', '07-15 23:50': 'Guard #389 begins shift\\n', '05-19 00:51': 'falls asleep\\n', '06-11 00:29': 'falls asleep\\n', '03-01 00:57': 'wakes up\\n', '07-19 00:58': 'wakes up\\n', '03-15 00:12': 'falls asleep\\n', '03-26 23:58': 'Guard #3463 begins shift\\n', '10-21 23:56': 'Guard #3253 begins shift\\n', '09-13 00:04': 'falls asleep\\n', '05-16 23:52': 'Guard #389 begins shift\\n', '11-20 00:49': 'wakes up\\n', '03-31 00:01': 'Guard #2557 begins shift\\n', '08-23 00:51': 'wakes up\\n', '09-17 00:52': 'falls asleep\\n', '07-26 00:18': 'wakes up\\n', '06-30 00:00': 'Guard #2557 begins shift\\n', '05-01 00:40': 'wakes up\\n', '10-12 00:01': 'falls asleep\\n', '03-15 00:47': 'wakes up\\n', '10-24 00:43': 'falls asleep\\n', '03-26 00:44': 'falls asleep\\n', '06-16 00:40': 'falls asleep\\n', '07-20 00:38': 'wakes up\\n', '08-27 00:13': 'falls asleep\\n', '09-07 00:45': 'wakes up\\n', '06-17 00:39': 'falls asleep\\n', '03-20 00:56': 'wakes up\\n', '03-02 00:49': 'falls asleep\\n', '08-21 00:00': 'Guard #3469 begins shift\\n', '04-24 00:43': 'wakes up\\n', '07-24 00:13': 'wakes up\\n', '03-21 23:50': 'Guard #523 begins shift\\n', '03-01 00:24': 'wakes up\\n', '08-21 00:50': 'wakes up\\n', '09-11 00:44': 'wakes up\\n', '04-23 00:39': 'wakes up\\n', '11-09 00:29': 'wakes up\\n', '08-28 00:15': 'falls asleep\\n', '05-31 00:56': 'wakes up\\n', '08-16 00:11': 'falls asleep\\n', '11-08 00:24': 'falls asleep\\n', '10-06 00:38': 'falls asleep\\n', '03-19 00:33': 'wakes up\\n', '11-16 00:00': 'Guard #1597 begins shift\\n', '11-17 00:54': 'wakes up\\n', '09-22 00:00': 'Guard #1069 begins shift\\n', '03-04 00:04': 'Guard #3469 begins shift\\n', '04-15 00:46': 'falls asleep\\n', '09-25 00:52': 'wakes up\\n', '04-02 00:36': 'falls asleep\\n', '03-23 00:03': 'Guard #1597 begins shift\\n', '08-19 00:35': 'wakes up\\n', '11-07 00:53': 'wakes up\\n', '04-21 00:25': 'falls asleep\\n', '08-05 00:45': 'falls asleep\\n', '04-16 00:50': 'wakes up\\n', '04-13 00:35': 'wakes up\\n', '10-23 00:26': 'falls asleep\\n', '08-17 00:54': 'wakes up\\n', '05-10 00:19': 'falls asleep\\n', '11-22 00:00': 'Guard #1699 begins shift\\n', '07-19 00:36': 'wakes up\\n', '05-09 00:49': 'wakes up\\n', '04-29 00:00': 'falls asleep\\n', '05-12 00:55': 'wakes up\\n', '10-30 00:24': 'falls asleep\\n', '09-10 00:28': 'wakes up\\n', '03-05 00:01': 'Guard #1759 begins shift\\n', '04-24 00:03': 'Guard #1861 begins shift\\n', '11-08 00:09': 'wakes up\\n', '05-24 23:58': 'Guard #1759 begins shift\\n', '07-04 00:54': 'wakes up\\n', '04-24 00:40': 'falls asleep\\n', '09-01 00:11': 'falls asleep\\n', '10-13 00:58': 'wakes up\\n', '04-18 23:50': 'Guard #3463 begins shift\\n', '11-02 00:59': 'wakes up\\n', '11-23 00:32': 'wakes up\\n', '08-05 23:46': 'Guard #1399 begins shift\\n', '04-05 00:58': 'wakes up\\n', '10-26 00:16': 'wakes up\\n', '06-11 00:19': 'falls asleep\\n', '03-06 00:50': 'wakes up\\n', '06-23 00:15': 'wakes up\\n', '10-13 00:41': 'wakes up\\n', '03-28 00:55': 'wakes up\\n', '05-30 00:03': 'falls asleep\\n', '03-02 00:10': 'falls asleep\\n', '04-12 00:01': 'Guard #389 begins shift\\n', '11-10 00:41': 'falls asleep\\n', '11-10 00:53': 'wakes up\\n', '11-21 00:15': 'falls asleep\\n', '09-14 00:22': 'falls asleep\\n', '07-17 00:55': 'wakes up\\n', '06-29 00:24': 'falls asleep\\n', '03-19 00:58': 'wakes up\\n', '09-16 00:36': 'falls asleep\\n', '09-17 23:51': 'Guard #3253 begins shift\\n', '04-17 23:50': 'Guard #2557 begins shift\\n', '08-26 00:56': 'wakes up\\n', '03-12 00:00': 'Guard #1123 begins shift\\n', '04-22 23:57': 'Guard #1699 begins shift\\n', '08-02 23:58': 'Guard #829 begins shift\\n', '05-03 00:44': 'wakes up\\n', '04-02 00:45': 'wakes up\\n', '11-02 00:52': 'wakes up\\n', '03-26 00:51': 'wakes up\\n', '06-06 00:01': 'Guard #2557 begins shift\\n', '08-02 00:53': 'falls asleep\\n', '03-19 00:05': 'falls asleep\\n', '07-28 00:37': 'falls asleep\\n', '11-06 00:55': 'wakes up\\n', '03-28 00:16': 'falls asleep\\n', '06-02 00:13': 'falls asleep\\n', '06-30 00:38': 'wakes up\\n', '03-24 00:35': 'wakes up\\n', '09-19 00:48': 'wakes up\\n', '10-19 00:17': 'wakes up\\n', '11-09 23:59': 'Guard #1861 begins shift\\n', '06-11 00:54': 'wakes up\\n', '08-11 00:52': 'wakes up\\n', '09-25 00:34': 'wakes up\\n', '08-29 00:18': 'wakes up\\n', '06-04 00:50': 'wakes up\\n', '05-03 00:28': 'wakes up\\n', '05-18 00:43': 'falls asleep\\n', '06-10 00:15': 'falls asleep\\n', '05-02 00:30': 'falls asleep\\n', '06-07 00:31': 'falls asleep\\n', '03-18 23:52': 'Guard #523 begins shift\\n', '10-21 00:40': 'wakes up\\n', '03-12 23:52': 'Guard #1699 begins shift\\n', '09-24 00:28': 'falls asleep\\n', '09-03 00:26': 'falls asleep\\n', '08-22 00:50': 'wakes up\\n', '06-10 00:00': 'Guard #523 begins shift\\n', '09-07 00:07': 'falls asleep\\n', '03-22 00:04': 'falls asleep\\n', '11-17 00:27': 'wakes up\\n', '03-29 00:58': 'wakes up\\n', '05-07 00:51': 'wakes up\\n', '03-14 00:04': 'Guard #463 begins shift\\n', '11-16 23:59': 'Guard #1699 begins shift\\n', '10-28 23:49': 'Guard #3253 begins shift\\n', '04-07 00:01': 'Guard #1399 begins shift\\n', '07-10 00:52': 'wakes up\\n', '03-01 00:52': 'falls asleep\\n', '06-09 00:47': 'falls asleep\\n', '05-25 00:35': 'falls asleep\\n', '06-18 00:59': 'wakes up\\n', '04-28 23:47': 'Guard #523 begins shift\\n', '04-10 00:27': 'falls asleep\\n', '07-01 00:44': 'wakes up\\n', '07-06 23:54': 'Guard #1123 begins shift\\n', '04-13 00:28': 'wakes up\\n', '06-14 00:38': 'wakes up\\n', '06-22 00:54': 'wakes up\\n', '03-01 23:58': 'Guard #1123 begins shift\\n', '08-12 00:54': 'falls asleep\\n', '10-05 00:59': 'wakes up\\n', '07-08 00:04': 'Guard #389 begins shift\\n', '10-22 23:57': 'Guard #389 begins shift\\n', '03-06 00:58': 'wakes up\\n', '03-12 00:49': 'wakes up\\n', '10-09 00:56': 'falls asleep\\n', '04-10 00:03': 'Guard #1699 begins shift\\n', '03-06 00:38': 'falls asleep\\n', '10-27 00:53': 'wakes up\\n', '08-30 00:04': 'Guard #653 begins shift\\n', '07-13 00:14': 'wakes up\\n', '05-28 00:57': 'wakes up\\n', '11-20 23:57': 'Guard #1861 begins shift\\n', '09-01 00:41': 'wakes up\\n', '10-18 00:56': 'wakes up\\n', '05-10 00:53': 'falls asleep\\n', '02-26 00:03': 'Guard #3469 begins shift\\n', '09-04 00:00': 'Guard #3253 begins shift\\n', '04-23 00:24': 'falls asleep\\n', '06-25 00:00': 'Guard #1399 begins shift\\n', '09-22 00:53': 'falls asleep\\n', '09-21 00:03': 'Guard #829 begins shift\\n', '06-16 23:58': 'Guard #2557 begins shift\\n', '11-01 00:15': 'wakes up\\n', '08-06 00:43': 'falls asleep\\n', '11-07 23:49': 'Guard #1123 begins shift\\n', '04-01 00:03': 'falls asleep\\n', '04-15 00:54': 'falls asleep\\n', '08-03 00:53': 'wakes up\\n', '04-25 00:01': 'Guard #1399 begins shift\\n', '09-14 00:46': 'wakes up\\n', '08-10 00:04': 'Guard #1069 begins shift\\n', '08-04 23:56': 'Guard #829 begins shift\\n', '04-19 00:40': 'wakes up\\n', '10-16 23:46': 'Guard #1069 begins shift\\n', '10-11 00:25': 'wakes up\\n', '07-16 00:59': 'wakes up\\n', '04-28 00:04': 'Guard #3463 begins shift\\n', '09-12 00:02': 'Guard #463 begins shift\\n', '06-28 00:45': 'falls asleep\\n', '10-15 00:48': 'falls asleep\\n', '06-21 00:00': 'Guard #523 begins shift\\n', '06-13 23:47': 'Guard #1069 begins shift\\n', '03-08 00:35': 'wakes up\\n', '04-21 00:22': 'wakes up\\n', '05-14 00:50': 'wakes up\\n', '06-03 00:36': 'falls asleep\\n', '07-28 00:07': 'falls asleep\\n', '03-25 00:47': 'wakes up\\n', '07-13 00:51': 'wakes up\\n', '07-24 00:01': 'falls asleep\\n', '06-23 23:58': 'Guard #1399 begins shift\\n', '07-27 00:12': 'falls asleep\\n', '04-20 00:53': 'wakes up\\n', '08-26 00:26': 'wakes up\\n', '03-10 00:57': 'wakes up\\n', '07-29 00:34': 'wakes up\\n', '06-05 00:43': 'wakes up\\n', '05-29 00:19': 'falls asleep\\n', '04-11 00:00': 'Guard #1123 begins shift\\n', '05-14 00:58': 'wakes up\\n', '04-02 00:02': 'Guard #1399 begins shift\\n', '08-14 00:09': 'falls asleep\\n', '09-22 00:56': 'wakes up\\n', '10-08 00:54': 'wakes up\\n', '11-05 00:03': 'Guard #829 begins shift\\n', '04-07 00:10': 'falls asleep\\n', '07-23 00:00': 'Guard #73 begins shift\\n', '08-12 00:58': 'wakes up\\n', '09-23 00:53': 'falls asleep\\n', '07-06 00:03': 'Guard #151 begins shift\\n', '08-26 00:45': 'wakes up\\n', '06-09 00:02': 'Guard #2333 begins shift\\n', '03-14 00:54': 'wakes up\\n', '06-11 00:47': 'wakes up\\n', '07-29 00:48': 'falls asleep\\n', '05-16 00:57': 'falls asleep\\n', '06-04 00:11': 'falls asleep\\n', '06-23 00:57': 'wakes up\\n', '10-31 00:26': 'falls asleep\\n', '10-23 00:46': 'wakes up\\n', '07-18 00:56': 'wakes up\\n', '03-08 00:03': 'falls asleep\\n', '05-15 00:30': 'falls asleep\\n', '03-23 00:32': 'falls asleep\\n', '06-25 00:58': 'wakes up\\n', '10-25 00:56': 'wakes up\\n', '04-11 00:06': 'falls asleep\\n', '10-09 00:01': 'falls asleep\\n', '05-26 00:25': 'wakes up\\n', '07-20 00:14': 'wakes up\\n', '08-22 00:04': 'Guard #73 begins shift\\n', '06-24 00:09': 'falls asleep\\n', '11-19 00:56': 'wakes up\\n', '04-06 00:03': 'falls asleep\\n', '09-06 00:32': 'falls asleep\\n', '07-07 00:00': 'falls asleep\\n', '07-25 23:54': 'Guard #73 begins shift\\n', '06-19 00:10': 'falls asleep\\n', '04-09 00:01': 'Guard #3371 begins shift\\n', '05-15 00:53': 'wakes up\\n', '07-18 00:41': 'falls asleep\\n', '10-24 00:27': 'wakes up\\n', '03-17 00:57': 'wakes up\\n', '05-08 00:01': 'Guard #151 begins shift\\n', '07-30 23:56': 'Guard #3463 begins shift\\n', '10-05 00:29': 'falls asleep\\n', '04-12 00:19': 'falls asleep\\n', '08-31 00:40': 'wakes up\\n', '05-27 00:47': 'falls asleep\\n', '09-02 23:58': 'Guard #523 begins shift\\n', '06-12 00:12': 'falls asleep\\n', '06-11 00:26': 'wakes up\\n', '05-10 00:58': 'wakes up\\n', '10-11 00:20': 'falls asleep\\n', '03-29 00:57': 'falls asleep\\n', '07-04 00:21': 'falls asleep\\n', '07-20 00:46': 'falls asleep\\n', '10-01 00:52': 'wakes up\\n', '11-06 00:47': 'falls asleep\\n', '04-29 00:38': 'falls asleep\\n', '07-02 00:35': 'falls asleep\\n', '06-05 00:24': 'falls asleep\\n', '09-16 00:43': 'wakes up\\n', '10-15 00:56': 'falls asleep\\n', '03-17 00:24': 'wakes up\\n', '06-08 00:04': 'falls asleep\\n', '07-12 00:55': 'wakes up\\n', '09-13 00:39': 'wakes up\\n', '03-20 00:09': 'falls asleep\\n', '03-21 00:15': 'wakes up\\n', '07-03 00:39': 'falls asleep\\n', '03-01 00:07': 'falls asleep\\n', '05-03 00:50': 'wakes up\\n', '05-10 00:32': 'wakes up\\n', '05-09 00:34': 'falls asleep\\n', '09-16 00:59': 'wakes up\\n', '03-29 00:52': 'wakes up\\n', '03-15 23:58': 'Guard #73 begins shift\\n', '06-26 00:23': 'falls asleep\\n', '09-03 00:55': 'wakes up\\n', '08-28 00:28': 'wakes up\\n', '07-13 00:17': 'falls asleep\\n', '09-28 00:46': 'wakes up\\n', '06-20 00:01': 'Guard #2557 begins shift\\n', '03-01 00:43': 'falls asleep\\n', '09-28 00:19': 'falls asleep\\n', '06-19 00:18': 'wakes up\\n', '10-19 00:16': 'falls asleep\\n', '11-18 00:40': 'falls asleep\\n', '06-01 00:01': 'falls asleep\\n', '07-17 00:28': 'falls asleep\\n', '09-16 00:57': 'falls asleep\\n', '07-11 00:44': 'falls asleep\\n', '05-18 00:04': 'Guard #1399 begins shift\\n', '08-07 00:17': 'falls asleep\\n', '05-14 00:38': 'wakes up\\n', '09-25 00:15': 'falls asleep\\n', '07-25 00:57': 'wakes up\\n', '05-20 00:29': 'wakes up\\n', '04-17 00:55': 'wakes up\\n', '11-02 00:33': 'falls asleep\\n', '08-15 00:46': 'wakes up\\n', '06-08 00:49': 'wakes up\\n', '11-03 00:10': 'falls asleep\\n', '05-02 00:38': 'wakes up\\n', '09-21 00:57': 'wakes up\\n', '08-04 00:51': 'falls asleep\\n', '03-06 23:56': 'Guard #3371 begins shift\\n', '07-15 00:59': 'wakes up\\n', '09-05 00:13': 'falls asleep\\n', '08-17 00:02': 'Guard #1399 begins shift\\n', '07-05 00:02': 'Guard #151 begins shift\\n', '05-17 00:02': 'falls asleep\\n', '10-11 00:58': 'wakes up\\n', '10-24 23:56': 'Guard #389 begins shift\\n', '11-09 00:52': 'wakes up\\n', '07-05 00:57': 'wakes up\\n', '04-30 00:54': 'wakes up\\n', '04-01 00:49': 'wakes up\\n', '06-11 00:53': 'falls asleep\\n', '06-23 00:01': 'Guard #1597 begins shift\\n', '03-17 00:02': 'Guard #1399 begins shift\\n', '10-15 00:53': 'wakes up\\n', '09-11 00:43': 'falls asleep\\n', '10-26 00:04': 'Guard #73 begins shift\\n', '08-02 00:02': 'Guard #463 begins shift\\n', '05-01 00:43': 'falls asleep\\n', '10-04 23:56': 'Guard #829 begins shift\\n', '11-01 00:23': 'falls asleep\\n', '09-18 00:02': 'falls asleep\\n', '06-16 00:50': 'wakes up\\n', '09-05 23:59': 'Guard #1069 begins shift\\n', '07-08 00:53': 'wakes up\\n', '05-24 00:51': 'wakes up\\n', '10-26 00:15': 'falls asleep\\n', '11-04 00:54': 'falls asleep\\n', '05-10 00:46': 'wakes up\\n', '04-18 00:53': 'wakes up\\n', '05-03 00:08': 'falls asleep\\n', '06-28 23:58': 'Guard #1069 begins shift\\n', '07-31 00:24': 'wakes up\\n', '11-19 00:39': 'wakes up\\n', '07-12 23:58': 'Guard #2333 begins shift\\n', '07-22 00:57': 'wakes up\\n', '03-28 23:56': 'Guard #829 begins shift\\n', '04-30 23:50': 'Guard #2333 begins shift\\n', '05-07 00:00': 'Guard #1759 begins shift\\n', '06-26 23:56': 'Guard #151 begins shift\\n', '03-18 00:28': 'falls asleep\\n', '10-02 00:57': 'falls asleep\\n', '03-13 00:51': 'falls asleep\\n', '05-03 23:46': 'Guard #3469 begins shift\\n', '10-19 00:00': 'Guard #523 begins shift\\n', '09-13 00:52': 'falls asleep\\n', '04-11 00:07': 'wakes up\\n', '09-08 00:25': 'falls asleep\\n', '10-11 00:48': 'falls asleep\\n', '04-27 00:37': 'falls asleep\\n', '09-11 00:01': 'Guard #2333 begins shift\\n', '08-25 00:40': 'wakes up\\n', '03-24 00:51': 'wakes up\\n', '02-28 00:17': 'falls asleep\\n', '04-25 00:34': 'falls asleep\\n', '07-16 00:57': 'falls asleep\\n', '05-29 00:24': 'wakes up\\n', '07-21 00:57': 'wakes up\\n', '04-06 00:44': 'wakes up\\n', '04-17 00:13': 'wakes up\\n', '10-30 00:41': 'falls asleep\\n', '06-30 00:49': 'falls asleep\\n', '07-14 00:45': 'wakes up\\n', '09-04 00:11': 'falls asleep\\n', '05-26 00:11': 'falls asleep\\n', '11-11 00:58': 'wakes up\\n', '07-10 00:16': 'falls asleep\\n', '10-14 00:58': 'wakes up\\n', '10-07 00:37': 'falls asleep\\n', '04-22 00:02': 'Guard #1399 begins shift\\n', '09-20 00:57': 'wakes up\\n', '06-03 00:07': 'falls asleep\\n', '07-12 00:50': 'falls asleep\\n', '05-01 00:55': 'wakes up\\n', '04-17 00:27': 'falls asleep\\n', '07-23 23:46': 'Guard #1597 begins shift\\n', '09-28 00:41': 'falls asleep\\n', '11-06 00:00': 'Guard #829 begins shift\\n', '04-14 00:47': 'falls asleep\\n', '03-18 00:48': 'wakes up\\n', '06-22 00:57': 'falls asleep\\n', '09-09 00:21': 'wakes up\\n', '03-02 00:57': 'wakes up\\n', '08-20 00:33': 'wakes up\\n', '05-29 23:50': 'Guard #1399 begins shift\\n', '03-02 23:56': 'Guard #1399 begins shift\\n', '04-11 00:46': 'wakes up\\n', '04-19 00:26': 'wakes up\\n', '07-09 00:59': 'wakes up\\n', '11-08 00:05': 'falls asleep\\n', '07-22 00:04': 'Guard #1913 begins shift\\n', '09-04 00:39': 'falls asleep\\n', '04-29 00:34': 'wakes up\\n', '04-05 00:00': 'Guard #523 begins shift\\n', '05-20 00:01': 'falls asleep\\n', '09-15 00:42': 'falls asleep\\n', '03-25 00:02': 'Guard #1699 begins shift\\n', '08-08 00:00': 'Guard #3253 begins shift\\n', '04-10 00:41': 'wakes up\\n', '04-07 23:59': 'Guard #829 begins shift\\n', '09-02 00:58': 'wakes up\\n', '10-05 00:34': 'wakes up\\n', '06-21 23:57': 'Guard #1699 begins shift\\n', '07-30 00:49': 'wakes up\\n', '02-25 00:54': 'falls asleep\\n', '03-22 00:48': 'wakes up\\n', '10-01 23:50': 'Guard #1699 begins shift\\n', '11-17 00:38': 'falls asleep\\n', '06-27 00:56': 'falls asleep\\n', '03-14 00:49': 'falls asleep\\n', '09-01 23:58': 'Guard #389 begins shift\\n', '08-04 00:42': 'wakes up\\n', '05-12 00:04': 'falls asleep\\n', '03-30 00:47': 'falls asleep\\n', '06-20 00:26': 'falls asleep\\n', '03-19 23:56': 'Guard #3463 begins shift\\n', '03-24 00:01': 'Guard #1123 begins shift\\n', '11-14 00:28': 'falls asleep\\n', '07-18 00:03': 'Guard #3463 begins shift\\n', '10-27 00:18': 'falls asleep\\n', '02-24 23:57': 'Guard #1913 begins shift\\n', '09-05 00:01': 'Guard #151 begins shift\\n', '07-07 00:23': 'wakes up\\n', '11-05 00:53': 'wakes up\\n', '05-24 00:03': 'falls asleep\\n', '09-22 23:56': 'Guard #1913 begins shift\\n', '05-14 00:00': 'falls asleep\\n', '03-13 00:55': 'wakes up\\n', '09-11 00:40': 'wakes up\\n', '07-08 00:44': 'falls asleep\\n', '07-31 00:59': 'wakes up\\n', '08-13 00:40': 'wakes up\\n', '09-02 00:41': 'wakes up\\n', '09-26 00:17': 'falls asleep\\n', '08-23 00:07': 'falls asleep\\n', '07-15 00:12': 'falls asleep\\n', '03-13 00:00': 'falls asleep\\n', '03-04 00:39': 'falls asleep\\n', '08-28 00:57': 'falls asleep\\n', '03-28 00:45': 'falls asleep\\n', '07-12 00:34': 'wakes up\\n', '02-25 00:56': 'wakes up\\n', '10-08 00:30': 'falls asleep\\n', '02-28 00:52': 'wakes up\\n', '05-10 00:00': 'Guard #1861 begins shift\\n', '11-08 00:40': 'wakes up\\n', '08-31 00:45': 'falls asleep\\n', '06-20 00:43': 'falls asleep\\n', '06-21 00:39': 'wakes up\\n', '07-20 00:57': 'wakes up\\n', '08-29 00:02': 'falls asleep\\n', '03-19 00:55': 'falls asleep\\n', '06-01 23:56': 'Guard #73 begins shift\\n', '10-31 23:58': 'Guard #3463 begins shift\\n', '06-25 00:51': 'falls asleep\\n', '10-17 00:00': 'falls asleep\\n', '11-12 00:20': 'falls asleep\\n', '07-27 00:26': 'wakes up\\n', '03-21 00:00': 'Guard #1759 begins shift\\n', '08-01 00:40': 'falls asleep\\n'}\n"
     ]
    }
   ],
   "source": [
    "newtestclaims = {}\n",
    "for item in testclaims:\n",
    "\n",
    "        newtestclaims[item[6:17]] = item[19::]\n",
    "    \n",
    "print(newtestclaims)"
   ]
  },
  {
   "cell_type": "code",
   "execution_count": 278,
   "metadata": {},
   "outputs": [],
   "source": [
    "from datetime import datetime\n",
    "ordered_data = sorted(newtestclaims.items(), key = lambda x:datetime.strptime(x[0], '%m-%d %H:%M'), reverse=False)\n",
    "\n",
    "testdata = ordered_data"
   ]
  },
  {
   "cell_type": "code",
   "execution_count": 279,
   "metadata": {
    "collapsed": true
   },
   "outputs": [],
   "source": [
    "def combo(iter1, iter2):\n",
    "    new_list = []\n",
    "    for idx in range(len(iter1)):\n",
    "        new_list.append((iter1[idx], iter2[idx]))\n",
    "    return new_list"
   ]
  },
  {
   "cell_type": "code",
   "execution_count": 280,
   "metadata": {},
   "outputs": [],
   "source": [
    "#testdata"
   ]
  },
  {
   "cell_type": "code",
   "execution_count": 281,
   "metadata": {},
   "outputs": [],
   "source": [
    "j=0\n",
    "lengthsleep = {}\n",
    "journal = []\n",
    "    \n",
    "for entry in testdata:\n",
    "    if entry[1][0]=='G':\n",
    "        j+=1\n",
    "        timeasleep = 0\n",
    "        #print(\"guard\",entry[1][7:11],j)\n",
    "        guardno = entry[1][7:11]\n",
    "    if entry[1][0]=='f':\n",
    "        #print(guardno, \"asleep\",entry[0][9:11])\n",
    "        sleepmin = entry[0][9:11]\n",
    "    if entry[1][0]=='w':\n",
    "        #print(guardno, \"awake\",entry[0][9:11])\n",
    "        wakemin = entry[0][9:11]\n",
    "        timeasleep = int(wakemin)-int(sleepmin)\n",
    "        #print(\"time:\",timeasleep)\n",
    "        sleepdets = [guardno, sleepmin, wakemin]\n",
    "        #print(sleepdets)\n",
    "        journal.append(sleepdets)\n",
    "        if guardno in lengthsleep.keys():\n",
    "            lengthsleep[guardno]+= timeasleep            \n",
    "        else:\n",
    "            lengthsleep[guardno] = timeasleep\n",
    "\n"
   ]
  },
  {
   "cell_type": "code",
   "execution_count": 282,
   "metadata": {},
   "outputs": [
    {
     "name": "stdout",
     "output_type": "stream",
     "text": [
      "{'1913': 120, '3469': 311, '2557': 332, '463 ': 426, '1123': 304, '1399': 444, '1759': 338, '3463': 461, '1069': 319, '829 ': 372, '1699': 370, '73 b': 234, '1597': 236, '523 ': 511, '151 ': 310, '389 ': 280, '1861': 287, '2333': 226, '3253': 227, '653 ': 188}\n"
     ]
    }
   ],
   "source": [
    "print(lengthsleep)"
   ]
  },
  {
   "cell_type": "code",
   "execution_count": 283,
   "metadata": {},
   "outputs": [
    {
     "name": "stdout",
     "output_type": "stream",
     "text": [
      "523 \n"
     ]
    }
   ],
   "source": [
    "longestsleeper = max(zip(lengthsleep.values(), lengthsleep.keys()))\n",
    "print(longestsleeper[1])"
   ]
  },
  {
   "cell_type": "code",
   "execution_count": 284,
   "metadata": {},
   "outputs": [
    {
     "name": "stdout",
     "output_type": "stream",
     "text": [
      "[['1913', '17', '29'], ['1913', '54', '56'], ['3469', '07', '14'], ['3469', '37', '49'], ['2557', '27', '57'], ['463 ', '17', '52'], ['1123', '07', '24'], ['1123', '43', '46'], ['1123', '52', '57'], ['1123', '10', '30'], ['1123', '49', '57'], ['1399', '24', '37'], ['3469', '12', '21'], ['3469', '39', '57'], ['1759', '28', '30'], ['1759', '40', '52'], ['3463', '38', '50'], ['3463', '54', '58'], ['1069', '03', '35'], ['3469', '50', '59'], ['1399', '14', '57'], ['829 ', '09', '45'], ['1123', '19', '49'], ['1699', '00', '38'], ['1699', '51', '55'], ['463 ', '49', '54'], ['463 ', '57', '58'], ['3463', '12', '47'], ['73 b', '23', '34'], ['1399', '21', '24'], ['1399', '56', '57'], ['1597', '28', '48'], ['1597', '52', '59'], ['523 ', '05', '33'], ['523 ', '55', '58'], ['3463', '09', '26'], ['3463', '33', '40'], ['3463', '55', '56'], ['1759', '12', '15'], ['523 ', '04', '15'], ['523 ', '20', '48'], ['523 ', '53', '57'], ['1597', '32', '37'], ['1123', '25', '35'], ['1123', '40', '51'], ['1699', '32', '47'], ['523 ', '44', '51'], ['3463', '08', '47'], ['829 ', '16', '41'], ['829 ', '45', '55']]\n"
     ]
    }
   ],
   "source": [
    "print(journal[0:50])"
   ]
  },
  {
   "cell_type": "code",
   "execution_count": 285,
   "metadata": {},
   "outputs": [],
   "source": [
    "minutes = {}\n",
    "for record in journal:\n",
    "    if record[0] == longestsleeper[1]:\n",
    "        for i in range(int(record[1]),int(record[2])):\n",
    "            if i in minutes.keys():\n",
    "                minutes[i]+= 1            \n",
    "            else:\n",
    "                minutes[i] = 1\n",
    "    "
   ]
  },
  {
   "cell_type": "code",
   "execution_count": 286,
   "metadata": {},
   "outputs": [
    {
     "name": "stdout",
     "output_type": "stream",
     "text": [
      "{5: 6, 6: 6, 7: 6, 8: 7, 9: 7, 10: 7, 11: 7, 12: 7, 13: 6, 14: 6, 15: 6, 16: 7, 17: 6, 18: 6, 19: 6, 20: 9, 21: 9, 22: 9, 23: 10, 24: 10, 25: 10, 26: 11, 27: 12, 28: 12, 29: 12, 30: 12, 31: 13, 32: 12, 55: 7, 56: 6, 57: 4, 4: 5, 33: 12, 34: 12, 35: 12, 36: 13, 37: 13, 38: 14, 39: 12, 40: 12, 41: 12, 42: 12, 43: 12, 44: 12, 45: 12, 46: 11, 47: 11, 53: 8, 54: 8, 48: 10, 49: 10, 50: 9, 52: 7, 3: 4, 51: 6, 0: 2, 1: 3, 2: 3}\n"
     ]
    }
   ],
   "source": [
    "print(minutes)"
   ]
  },
  {
   "cell_type": "code",
   "execution_count": 287,
   "metadata": {},
   "outputs": [
    {
     "name": "stdout",
     "output_type": "stream",
     "text": [
      "(14, 38)\n"
     ]
    }
   ],
   "source": [
    "largestminutes = max(zip(minutes.values(), minutes.keys()))\n",
    "print(largestminutes)"
   ]
  },
  {
   "cell_type": "code",
   "execution_count": 294,
   "metadata": {},
   "outputs": [
    {
     "name": "stdout",
     "output_type": "stream",
     "text": [
      "(4, 55) 1913\n",
      "(9, 44) 3469\n",
      "(10, 34) 2557\n",
      "(20, 49) 463 \n"
     ]
    }
   ],
   "source": [
    "guard_record = {}\n",
    "compval = 0\n",
    "\n",
    "for idval in lengthsleep.keys():\n",
    "    #print(idval)\n",
    "    minutes = {}\n",
    "    for record in journal:\n",
    "        if record[0] == idval:\n",
    "            for i in range(int(record[1]),int(record[2])):\n",
    "                if i in minutes.keys():\n",
    "                    minutes[i]+= 1            \n",
    "                else:\n",
    "                    minutes[i] = 1\n",
    "\n",
    "    largestminutes = max(zip(minutes.values(), minutes.keys()))\n",
    "    \n",
    "    if largestminutes[0]> compval:\n",
    "        print(largestminutes,idval)\n",
    "        compval = largestminutes[0]"
   ]
  },
  {
   "cell_type": "code",
   "execution_count": 289,
   "metadata": {},
   "outputs": [
    {
     "data": {
      "text/plain": [
       "dict_keys(['1913', '3469', '2557', '463 ', '1123', '1399', '1759', '3463', '1069', '829 ', '1699', '73 b', '1597', '523 ', '151 ', '389 ', '1861', '2333', '3253', '653 '])"
      ]
     },
     "execution_count": 289,
     "metadata": {},
     "output_type": "execute_result"
    }
   ],
   "source": [
    "lengthsleep.keys()"
   ]
  },
  {
   "cell_type": "code",
   "execution_count": 290,
   "metadata": {},
   "outputs": [
    {
     "name": "stdout",
     "output_type": "stream",
     "text": [
      "1913\n",
      "3469\n",
      "2557\n",
      "463 \n",
      "1123\n",
      "1399\n",
      "1759\n",
      "3463\n",
      "1069\n",
      "829 \n",
      "1699\n",
      "73 b\n",
      "1597\n",
      "523 \n",
      "151 \n",
      "389 \n",
      "1861\n",
      "2333\n",
      "3253\n",
      "653 \n"
     ]
    }
   ],
   "source": [
    "for idval in lengthsleep.keys():\n",
    "    print(idval)\n"
   ]
  },
  {
   "cell_type": "code",
   "execution_count": null,
   "metadata": {
    "collapsed": true
   },
   "outputs": [],
   "source": []
  }
 ],
 "metadata": {
  "kernelspec": {
   "display_name": "Python 3",
   "language": "python",
   "name": "python3"
  },
  "language_info": {
   "codemirror_mode": {
    "name": "ipython",
    "version": 3
   },
   "file_extension": ".py",
   "mimetype": "text/x-python",
   "name": "python",
   "nbconvert_exporter": "python",
   "pygments_lexer": "ipython3",
   "version": "3.6.1"
  }
 },
 "nbformat": 4,
 "nbformat_minor": 2
}
