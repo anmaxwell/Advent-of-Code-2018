{
 "cells": [
  {
   "cell_type": "code",
   "execution_count": null,
   "metadata": {},
   "outputs": [],
   "source": [
    "#with open('/Users/Ania/input7.txt', 'r') as myfile:\n",
    "#    setorder = myfile.readlines()\n"
   ]
  },
  {
   "cell_type": "code",
   "execution_count": 1,
   "metadata": {},
   "outputs": [],
   "source": [
    "import string\n",
    "alphacheck = list(string.ascii_uppercase)\n",
    "testalphacheck = alphacheck[0:6]"
   ]
  },
  {
   "cell_type": "code",
   "execution_count": 2,
   "metadata": {
    "scrolled": true
   },
   "outputs": [],
   "source": [
    "with open('/Users/Ania/input7a.txt', 'r') as myfile:\n",
    "    setorder = myfile.readlines()"
   ]
  },
  {
   "cell_type": "code",
   "execution_count": 3,
   "metadata": {},
   "outputs": [],
   "source": [
    "#puzzle 2"
   ]
  },
  {
   "cell_type": "code",
   "execution_count": 4,
   "metadata": {},
   "outputs": [
    {
     "name": "stdout",
     "output_type": "stream",
     "text": [
      "{'A': 1, 'B': 2, 'C': 3, 'D': 4, 'E': 5, 'F': 6}\n"
     ]
    }
   ],
   "source": [
    "seconds = 0\n",
    "parttiming = {}\n",
    "order = []\n",
    "complete = []\n",
    "\n",
    "for count, letter in enumerate(testalphacheck):\n",
    "    parttiming[letter]=count+1\n",
    "    \n",
    "print(parttiming)"
   ]
  },
  {
   "cell_type": "code",
   "execution_count": 5,
   "metadata": {},
   "outputs": [
    {
     "name": "stdout",
     "output_type": "stream",
     "text": [
      "['C']\n"
     ]
    }
   ],
   "source": [
    "notavail = []\n",
    "for step in setorder:\n",
    "    if step[5] not in complete:\n",
    "        actstep = step[36]\n",
    "        notavail.append(actstep)\n",
    "\n",
    "\n",
    "for letter in testalphacheck:\n",
    "    if letter not in notavail:\n",
    "        order.append(letter)\n",
    "        testalphacheck.remove(letter)\n",
    "print(order)"
   ]
  },
  {
   "cell_type": "code",
   "execution_count": 6,
   "metadata": {},
   "outputs": [
    {
     "name": "stdout",
     "output_type": "stream",
     "text": [
      "C\n"
     ]
    }
   ],
   "source": [
    "while 0 not in parttiming.values():\n",
    "    for part in order:\n",
    "\n",
    "        parttiming[part]-=1\n",
    "        seconds+=1\n",
    "\n",
    "    if parttiming[part] == 0:\n",
    "        print(part)\n",
    "        complete.append(part)\n",
    "        order.pop(order.index(part))\n",
    "\n",
    "for part in complete:\n",
    "    parttiming[part]-=2\n"
   ]
  },
  {
   "cell_type": "code",
   "execution_count": 7,
   "metadata": {},
   "outputs": [
    {
     "name": "stdout",
     "output_type": "stream",
     "text": [
      "[] {'A': 1, 'B': 2, 'C': -2, 'D': 4, 'E': 5, 'F': 6} 3 ['C']\n"
     ]
    }
   ],
   "source": [
    "print(order, parttiming, seconds, complete)"
   ]
  },
  {
   "cell_type": "code",
   "execution_count": 8,
   "metadata": {},
   "outputs": [
    {
     "data": {
      "text/plain": [
       "['C']"
      ]
     },
     "execution_count": 8,
     "metadata": {},
     "output_type": "execute_result"
    }
   ],
   "source": [
    "complete"
   ]
  },
  {
   "cell_type": "code",
   "execution_count": 9,
   "metadata": {},
   "outputs": [
    {
     "name": "stdout",
     "output_type": "stream",
     "text": [
      "['A', 'F']\n"
     ]
    }
   ],
   "source": [
    "notavail = []\n",
    "for step in setorder:\n",
    "    if step[5] not in complete:\n",
    "        actstep = step[36]\n",
    "        notavail.append(actstep)\n",
    "\n",
    "\n",
    "for letter in testalphacheck:\n",
    "    if letter not in notavail:\n",
    "        order.append(letter)\n",
    "        testalphacheck.remove(letter)\n",
    "print(order)"
   ]
  },
  {
   "cell_type": "code",
   "execution_count": 10,
   "metadata": {},
   "outputs": [
    {
     "name": "stdout",
     "output_type": "stream",
     "text": [
      "['A', 'F'] {'A': 1, 'B': 2, 'C': -2, 'D': 4, 'E': 5, 'F': 6} 3 ['C']\n"
     ]
    }
   ],
   "source": [
    "print(order, parttiming, seconds, complete)"
   ]
  },
  {
   "cell_type": "code",
   "execution_count": 11,
   "metadata": {},
   "outputs": [
    {
     "name": "stdout",
     "output_type": "stream",
     "text": [
      "A ['A', 'F'] {'A': 0, 'B': 2, 'C': -2, 'D': 4, 'E': 5, 'F': 6} 4 ['C']\n",
      "F ['A', 'F'] {'A': 0, 'B': 2, 'C': -2, 'D': 4, 'E': 5, 'F': 5} 5 ['C']\n"
     ]
    }
   ],
   "source": [
    "while 0 not in parttiming.values():\n",
    "    for part in order:\n",
    "\n",
    "        parttiming[part]-=1\n",
    "        seconds+=1\n",
    "        print(part, order, parttiming, seconds, complete)\n",
    "\n",
    "    if parttiming[part] == 0:\n",
    "        print(part)\n",
    "        complete.append(part)\n",
    "        order.pop(order.index(part))\n",
    "        print(part, order, parttiming, seconds, complete)\n",
    "\n",
    "for part in complete:\n",
    "    parttiming[part]-=2"
   ]
  },
  {
   "cell_type": "code",
   "execution_count": null,
   "metadata": {},
   "outputs": [],
   "source": [
    "print(order, parttiming, seconds, complete)"
   ]
  },
  {
   "cell_type": "code",
   "execution_count": null,
   "metadata": {},
   "outputs": [],
   "source": []
  }
 ],
 "metadata": {
  "kernelspec": {
   "display_name": "Python 3",
   "language": "python",
   "name": "python3"
  },
  "language_info": {
   "codemirror_mode": {
    "name": "ipython",
    "version": 3
   },
   "file_extension": ".py",
   "mimetype": "text/x-python",
   "name": "python",
   "nbconvert_exporter": "python",
   "pygments_lexer": "ipython3",
   "version": "3.6.3"
  }
 },
 "nbformat": 4,
 "nbformat_minor": 2
}
