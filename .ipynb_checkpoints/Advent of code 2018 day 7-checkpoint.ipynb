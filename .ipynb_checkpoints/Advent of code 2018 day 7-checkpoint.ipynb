{
 "cells": [
  {
   "cell_type": "code",
   "execution_count": null,
   "metadata": {},
   "outputs": [],
   "source": [
    "#with open('/Users/Ania/input7.txt', 'r') as myfile:\n",
    "#    setorder = myfile.readlines()\n"
   ]
  },
  {
   "cell_type": "code",
   "execution_count": null,
   "metadata": {},
   "outputs": [],
   "source": [
    "import string\n",
    "alphacheck = list(string.ascii_uppercase)\n",
    "testalphacheck = alphacheck[0:6]"
   ]
  },
  {
   "cell_type": "code",
   "execution_count": null,
   "metadata": {
    "scrolled": true
   },
   "outputs": [],
   "source": [
    "with open('/Users/Ania/input7a.txt', 'r') as myfile:\n",
    "    setorder = myfile.readlines()"
   ]
  },
  {
   "cell_type": "code",
   "execution_count": null,
   "metadata": {
    "scrolled": true
   },
   "outputs": [],
   "source": [
    "order = []\n",
    "\n",
    "while len(testalphacheck)>0:\n",
    "    notavail = []\n",
    "    for step in setorder:\n",
    "        if step[5] not in order:\n",
    "            actstep = step[36]\n",
    "            notavail.append(actstep)\n",
    "\n",
    "    for letter in testalphacheck:\n",
    "        if letter not in notavail:\n",
    "            order.append(letter)\n",
    "            testalphacheck.remove(letter)\n",
    "\n",
    "            break\n",
    "               \n",
    "print(order, notavail)"
   ]
  },
  {
   "cell_type": "code",
   "execution_count": null,
   "metadata": {},
   "outputs": [],
   "source": []
  }
 ],
 "metadata": {
  "kernelspec": {
   "display_name": "Python 3",
   "language": "python",
   "name": "python3"
  },
  "language_info": {
   "codemirror_mode": {
    "name": "ipython",
    "version": 3
   },
   "file_extension": ".py",
   "mimetype": "text/x-python",
   "name": "python",
   "nbconvert_exporter": "python",
   "pygments_lexer": "ipython3",
   "version": "3.6.3"
  }
 },
 "nbformat": 4,
 "nbformat_minor": 2
}
