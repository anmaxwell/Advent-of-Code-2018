{
 "cells": [
  {
   "cell_type": "code",
   "execution_count": null,
   "metadata": {},
   "outputs": [],
   "source": [
    "#with open('/Users/Ania/input7.txt', 'r') as myfile:\n",
    "#    setorder = myfile.readlines()\n"
   ]
  },
  {
   "cell_type": "code",
   "execution_count": null,
   "metadata": {},
   "outputs": [],
   "source": [
    "import string\n",
    "alphacheck = list(string.ascii_uppercase)\n",
    "testalphacheck = alphacheck[0:6]\n",
    "alphacount = list(string.ascii_uppercase)"
   ]
  },
  {
   "cell_type": "code",
   "execution_count": null,
   "metadata": {
    "scrolled": true
   },
   "outputs": [],
   "source": [
    "with open('/Users/Ania/input7.txt', 'r') as myfile:\n",
    "    setorder = myfile.readlines()"
   ]
  },
  {
   "cell_type": "code",
   "execution_count": null,
   "metadata": {},
   "outputs": [],
   "source": [
    "#puzzle 2"
   ]
  },
  {
   "cell_type": "code",
   "execution_count": null,
   "metadata": {},
   "outputs": [],
   "source": [
    "seconds = 0\n",
    "parttiming = {}\n",
    "order = []\n",
    "complete = []\n",
    "\n",
    "\n",
    "for count, letter in enumerate(alphacheck):\n",
    "    parttiming[letter]=count+1\n",
    "    \n",
    "print(parttiming)"
   ]
  },
  {
   "cell_type": "code",
   "execution_count": null,
   "metadata": {},
   "outputs": [],
   "source": [
    "#while len(alphacheck) != 0:\n",
    "print(len(complete),len(alphacheck) )\n",
    "notavail = []"
   ]
  },
  {
   "cell_type": "code",
   "execution_count": null,
   "metadata": {},
   "outputs": [],
   "source": [
    "for step in setorder:\n",
    "        if step[5] not in complete:\n",
    "            actstep = step[36]\n",
    "            notavail.append(actstep)\n",
    "\n",
    "        "
   ]
  },
  {
   "cell_type": "code",
   "execution_count": null,
   "metadata": {},
   "outputs": [],
   "source": [
    "i=0\n",
    "        while i < 15:\n",
    "            print(i, len(alphacheck))\n",
    "            element = alphacheck[i] \n",
    "            print(element)\n",
    "            if element not in notavail:\n",
    "                print(element)\n",
    "                order.append(letter)\n",
    "                del alphacheck[i]\n",
    "            else:\n",
    "                i+=1\n",
    "\n",
    "            \n"
   ]
  },
  {
   "cell_type": "code",
   "execution_count": null,
   "metadata": {},
   "outputs": [],
   "source": [
    "        #for letter in alphacheck:\n",
    "        #if letter not in notavail:\n",
    "            #order.append(letter)\n",
    "            #alphacheck.remove(letter)\n",
    "    #print(order)\n",
    "    \n",
    "\n"
   ]
  },
  {
   "cell_type": "code",
   "execution_count": null,
   "metadata": {},
   "outputs": [],
   "source": [
    "    while 0 not in parttiming.values():\n",
    "        for part in order:\n",
    "\n",
    "\n",
    "            parttiming[part]-=1\n",
    "            if parttiming[part] == 0:\n",
    "                completed = part\n",
    "            else:\n",
    "                seconds+=1\n",
    "\n",
    "        #print(order, parttiming, seconds, complete)\n",
    "\n",
    "    "
   ]
  },
  {
   "cell_type": "code",
   "execution_count": null,
   "metadata": {},
   "outputs": [],
   "source": [
    "for letter in parttiming:\n",
    "        if parttiming[letter] ==0:\n",
    "            order.pop(order.index(letter))\n",
    "            complete.append(letter)\n",
    "\n"
   ]
  },
  {
   "cell_type": "code",
   "execution_count": null,
   "metadata": {},
   "outputs": [],
   "source": [
    "    for part in complete:\n",
    "        parttiming[part]-=2\n",
    "    \n",
    "print(order, parttiming, seconds, complete)"
   ]
  }
 ],
 "metadata": {
  "kernelspec": {
   "display_name": "Python 3",
   "language": "python",
   "name": "python3"
  },
  "language_info": {
   "codemirror_mode": {
    "name": "ipython",
    "version": 3
   },
   "file_extension": ".py",
   "mimetype": "text/x-python",
   "name": "python",
   "nbconvert_exporter": "python",
   "pygments_lexer": "ipython3",
   "version": "3.6.3"
  }
 },
 "nbformat": 4,
 "nbformat_minor": 2
}
