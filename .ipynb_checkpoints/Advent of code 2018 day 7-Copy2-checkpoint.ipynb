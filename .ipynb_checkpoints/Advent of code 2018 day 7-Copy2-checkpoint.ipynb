{
 "cells": [
  {
   "cell_type": "code",
   "execution_count": null,
   "metadata": {},
   "outputs": [],
   "source": [
    "#with open('/Users/Ania/input7.txt', 'r') as myfile:\n",
    "#    setorder = myfile.readlines()\n"
   ]
  },
  {
   "cell_type": "code",
   "execution_count": 1,
   "metadata": {},
   "outputs": [],
   "source": [
    "import string\n",
    "alphacheck = list(string.ascii_uppercase)"
   ]
  },
  {
   "cell_type": "code",
   "execution_count": 2,
   "metadata": {
    "scrolled": true
   },
   "outputs": [],
   "source": [
    "with open('/Users/Ania/input7.txt', 'r') as myfile:\n",
    "    setorder = myfile.readlines()"
   ]
  },
  {
   "cell_type": "code",
   "execution_count": 3,
   "metadata": {},
   "outputs": [],
   "source": [
    "#puzzle 2"
   ]
  },
  {
   "cell_type": "code",
   "execution_count": 4,
   "metadata": {},
   "outputs": [
    {
     "name": "stdout",
     "output_type": "stream",
     "text": [
      "{'A': 61, 'B': 62, 'C': 63, 'D': 64, 'E': 65, 'F': 66, 'G': 67, 'H': 68, 'I': 69, 'J': 70, 'K': 71, 'L': 72, 'M': 73, 'N': 74, 'O': 75, 'P': 76, 'Q': 77, 'R': 78, 'S': 79, 'T': 80, 'U': 81, 'V': 82, 'W': 83, 'X': 84, 'Y': 85, 'Z': 86}\n"
     ]
    }
   ],
   "source": [
    "seconds = 0\n",
    "parttiming = {}\n",
    "order = []\n",
    "complete = []\n",
    "\n",
    "for count, letter in enumerate(alphacheck):\n",
    "    parttiming[letter]=count+61\n",
    "    \n",
    "print(parttiming)"
   ]
  },
  {
   "cell_type": "code",
   "execution_count": 5,
   "metadata": {},
   "outputs": [
    {
     "name": "stdout",
     "output_type": "stream",
     "text": [
      "['Q', 'O', 'M', 'Y', 'X', 'Q', 'M', 'C', 'Z', 'A', 'Y', 'Q', 'Z', 'E', 'X', 'C', 'R', 'L', 'R', 'R', 'Z', 'L', 'S', 'X', 'X', 'O', 'Z', 'R', 'Z', 'Z', 'N', 'R', 'C', 'O', 'O', 'X', 'K', 'C', 'Z', 'O', 'P', 'S', 'E', 'F', 'Z', 'V', 'D', 'Z', 'X', 'Y', 'H', 'H', 'G', 'X', 'X', 'R', 'P', 'X', 'B', 'L', 'R', 'X', 'N', 'H', 'A', 'O', 'Q', 'C', 'V', 'S', 'S', 'A', 'X', 'Y', 'X', 'Z', 'X', 'A', 'X', 'M', 'J', 'L', 'G', 'O', 'N', 'X', 'R', 'M', 'M', 'M', 'H', 'D', 'O', 'S', 'L', 'D', 'N', 'M', 'P', 'R', 'H']\n",
      "['I', 'T', 'U', 'W'] 69\n",
      "['O', 'M', 'Y', 'X', 'Q', 'M', 'C', 'Z', 'A', 'Y', 'Q', 'Z', 'E', 'X', 'C', 'R', 'L', 'R', 'R', 'Z', 'L', 'S', 'X', 'X', 'O', 'Z', 'R', 'Z', 'Z', 'N', 'R', 'C', 'O', 'O', 'X', 'K', 'C', 'Z', 'O', 'P', 'S', 'F', 'Z', 'V', 'D', 'Z', 'X', 'Y', 'H', 'H', 'G', 'X', 'X', 'R', 'P', 'X', 'L', 'R', 'X', 'N', 'H', 'A', 'O', 'Q', 'C', 'V', 'S', 'S', 'A', 'X', 'Y', 'X', 'Z', 'X', 'A', 'X', 'M', 'L', 'O', 'N', 'X', 'M', 'M', 'M', 'H', 'D', 'O', 'S', 'L', 'D', 'N', 'M', 'P', 'R', 'H']\n",
      "['T', 'U', 'W', 'B', 'J'] 80\n",
      "['O', 'M', 'Y', 'X', 'M', 'C', 'Z', 'A', 'Y', 'Q', 'Z', 'E', 'X', 'C', 'R', 'L', 'R', 'R', 'Z', 'L', 'S', 'X', 'X', 'Z', 'R', 'Z', 'Z', 'N', 'R', 'C', 'O', 'O', 'X', 'K', 'C', 'Z', 'O', 'P', 'S', 'F', 'Z', 'V', 'D', 'Z', 'X', 'H', 'H', 'G', 'X', 'R', 'P', 'X', 'L', 'R', 'X', 'N', 'H', 'A', 'O', 'Q', 'C', 'V', 'S', 'S', 'A', 'X', 'Y', 'X', 'Z', 'X', 'A', 'X', 'M', 'L', 'O', 'N', 'X', 'M', 'M', 'M', 'H', 'D', 'O', 'S', 'L', 'N', 'M', 'P', 'R', 'H']\n",
      "['U', 'W', 'B', 'J'] 81\n",
      "['O', 'M', 'Y', 'M', 'C', 'Z', 'A', 'Y', 'Q', 'Z', 'E', 'X', 'C', 'R', 'L', 'R', 'R', 'Z', 'L', 'S', 'X', 'X', 'Z', 'R', 'Z', 'Z', 'N', 'R', 'C', 'O', 'X', 'K', 'C', 'Z', 'O', 'P', 'S', 'F', 'Z', 'V', 'D', 'Z', 'X', 'H', 'H', 'G', 'X', 'P', 'X', 'L', 'R', 'X', 'N', 'H', 'A', 'O', 'C', 'V', 'S', 'S', 'A', 'X', 'Y', 'X', 'Z', 'X', 'A', 'X', 'M', 'L', 'O', 'N', 'X', 'M', 'M', 'H', 'D', 'O', 'S', 'L', 'N', 'M', 'P', 'R', 'H']\n",
      "['W', 'B', 'J'] 83\n",
      "['O', 'M', 'M', 'C', 'Z', 'A', 'Y', 'Q', 'Z', 'E', 'X', 'C', 'R', 'L', 'R', 'R', 'Z', 'L', 'S', 'X', 'X', 'Z', 'R', 'Z', 'Z', 'R', 'C', 'O', 'X', 'K', 'C', 'Z', 'O', 'P', 'S', 'F', 'Z', 'V', 'D', 'Z', 'X', 'H', 'X', 'P', 'X', 'L', 'R', 'X', 'N', 'H', 'A', 'C', 'V', 'S', 'S', 'A', 'X', 'Y', 'X', 'Z', 'A', 'X', 'M', 'O', 'N', 'X', 'M', 'M', 'H', 'D', 'O', 'S', 'L', 'N', 'M', 'P', 'R', 'H']\n",
      "['B', 'J', 'G'] 131\n",
      "['M', 'M', 'C', 'Z', 'A', 'Y', 'Q', 'Z', 'E', 'X', 'C', 'R', 'L', 'R', 'R', 'Z', 'L', 'S', 'X', 'X', 'Z', 'R', 'Z', 'Z', 'R', 'C', 'O', 'X', 'K', 'C', 'Z', 'O', 'P', 'S', 'F', 'Z', 'V', 'D', 'Z', 'X', 'H', 'X', 'P', 'X', 'L', 'R', 'X', 'N', 'H', 'A', 'C', 'V', 'S', 'S', 'A', 'X', 'Y', 'X', 'Z', 'A', 'X', 'M', 'O', 'N', 'X', 'M', 'M', 'H', 'D', 'O', 'S', 'L', 'N', 'M', 'P', 'R', 'H']\n",
      "['J', 'G'] 139\n",
      "['M', 'C', 'Z', 'A', 'Y', 'Q', 'Z', 'E', 'X', 'C', 'R', 'L', 'R', 'R', 'Z', 'L', 'S', 'X', 'X', 'Z', 'R', 'Z', 'Z', 'R', 'C', 'O', 'X', 'K', 'C', 'Z', 'O', 'P', 'S', 'F', 'Z', 'V', 'D', 'Z', 'X', 'H', 'P', 'X', 'L', 'R', 'X', 'N', 'H', 'A', 'C', 'V', 'S', 'S', 'X', 'Y', 'X', 'Z', 'A', 'X', 'M', 'O', 'N', 'X', 'M', 'M', 'H', 'D', 'O', 'S', 'L', 'M', 'P', 'R', 'H']\n",
      "['G'] 150\n",
      "['C', 'Z', 'A', 'Y', 'Q', 'Z', 'E', 'X', 'C', 'R', 'L', 'R', 'R', 'Z', 'L', 'S', 'X', 'X', 'Z', 'R', 'Z', 'Z', 'R', 'C', 'O', 'X', 'C', 'Z', 'O', 'P', 'S', 'Z', 'V', 'D', 'Z', 'X', 'H', 'P', 'X', 'L', 'R', 'X', 'N', 'H', 'A', 'C', 'V', 'S', 'S', 'X', 'Y', 'X', 'Z', 'A', 'X', 'M', 'O', 'N', 'X', 'M', 'M', 'H', 'D', 'O', 'S', 'M', 'P', 'R', 'H']\n",
      "['F', 'K'] 216\n",
      "['C', 'A', 'Y', 'Q', 'Z', 'E', 'X', 'C', 'R', 'L', 'R', 'R', 'Z', 'L', 'S', 'X', 'X', 'Z', 'R', 'Z', 'Z', 'R', 'C', 'X', 'C', 'Z', 'O', 'P', 'S', 'Z', 'V', 'Z', 'H', 'P', 'X', 'L', 'R', 'X', 'H', 'A', 'C', 'V', 'S', 'S', 'X', 'Y', 'X', 'Z', 'A', 'X', 'M', 'O', 'N', 'X', 'M', 'H', 'D', 'O', 'S', 'M', 'P', 'R', 'H']\n",
      "['K'] 221\n",
      "['A', 'Y', 'Q', 'Z', 'E', 'X', 'C', 'R', 'L', 'R', 'R', 'Z', 'L', 'S', 'X', 'X', 'Z', 'R', 'Z', 'Z', 'R', 'C', 'C', 'Z', 'O', 'P', 'Z', 'V', 'Z', 'H', 'P', 'X', 'L', 'R', 'X', 'H', 'C', 'S', 'S', 'X', 'X', 'Z', 'A', 'X', 'M', 'O', 'N', 'X', 'M', 'H', 'O', 'S', 'R', 'H']\n",
      "['D'] 285\n",
      "['Y', 'Q', 'Z', 'E', 'X', 'C', 'R', 'L', 'R', 'R', 'Z', 'L', 'S', 'X', 'X', 'R', 'Z', 'Z', 'R', 'C', 'C', 'Z', 'O', 'Z', 'V', 'Z', 'P', 'X', 'L', 'R', 'X', 'H', 'C', 'S', 'S', 'X', 'X', 'Z', 'A', 'X', 'M', 'X', 'M', 'H', 'O', 'S', 'R', 'H']\n",
      "['N'] 359\n",
      "['Q', 'Z', 'E', 'X', 'C', 'R', 'L', 'R', 'R', 'Z', 'L', 'S', 'X', 'X', 'R', 'Z', 'Z', 'R', 'C', 'C', 'Z', 'O', 'Z', 'Z', 'P', 'X', 'L', 'R', 'X', 'H', 'C', 'S', 'S', 'X', 'X', 'Z', 'A', 'X', 'M', 'X', 'M', 'H', 'S', 'R']\n",
      "['V', 'Y'] 441\n",
      "['Q', 'Z', 'X', 'C', 'R', 'L', 'R', 'R', 'Z', 'L', 'S', 'X', 'X', 'R', 'Z', 'Z', 'R', 'C', 'C', 'Z', 'O', 'Z', 'Z', 'P', 'X', 'L', 'R', 'X', 'C', 'S', 'S', 'X', 'X', 'Z', 'A', 'M', 'X', 'M', 'H', 'S', 'R']\n",
      "['Y', 'E'] 444\n",
      "['Z', 'X', 'C', 'R', 'L', 'R', 'R', 'Z', 'L', 'S', 'X', 'X', 'R', 'Z', 'Z', 'R', 'C', 'C', 'O', 'Z', 'Z', 'P', 'X', 'L', 'R', 'X', 'C', 'S', 'S', 'X', 'Z', 'M', 'X', 'S', 'R']\n",
      "['E', 'A', 'H', 'Q'] 505\n",
      "['Z', 'C', 'R', 'L', 'R', 'R', 'Z', 'L', 'S', 'X', 'X', 'R', 'Z', 'Z', 'R', 'C', 'C', 'Z', 'P', 'X', 'L', 'R', 'X', 'C', 'S', 'S', 'X', 'Z', 'M', 'X', 'S', 'R']\n",
      "['E', 'H', 'Q', 'O'] 506\n",
      "['Z', 'R', 'L', 'R', 'R', 'Z', 'L', 'S', 'X', 'X', 'R', 'Z', 'Z', 'R', 'C', 'C', 'Z', 'P', 'X', 'L', 'R', 'X', 'C', 'S', 'Z', 'M', 'X', 'S']\n",
      "['H', 'Q', 'O'] 512\n",
      "['Z', 'R', 'L', 'R', 'Z', 'L', 'S', 'X', 'X', 'R', 'Z', 'Z', 'R', 'C', 'C', 'Z', 'P', 'X', 'L', 'R', 'X', 'C', 'S', 'Z', 'M', 'X']\n",
      "['Q', 'O'] 521\n",
      "['R', 'L', 'R', 'Z', 'L', 'S', 'X', 'X', 'R', 'Z', 'Z', 'C', 'C', 'Z', 'P', 'X', 'L', 'R', 'X', 'C', 'S', 'Z', 'M', 'X']\n",
      "['O'] 580\n",
      "['L', 'R', 'Z', 'L', 'S', 'X', 'X', 'R', 'Z', 'Z', 'C', 'C', 'Z', 'X', 'L', 'R', 'X', 'S', 'Z', 'X']\n",
      "['M', 'P'] 653\n",
      "['L', 'Z', 'L', 'S', 'X', 'X', 'R', 'Z', 'C', 'Z', 'X', 'R', 'X', 'S', 'Z']\n",
      "['P'] 656\n",
      "['Z', 'L', 'S', 'X', 'X', 'Z', 'Z', 'X', 'R', 'X', 'S']\n",
      "['C'] 719\n",
      "['L', 'S', 'X', 'X', 'Z', 'Z', 'X', 'X', 'S']\n",
      "['R'] 797\n",
      "['S', 'X', 'X', 'Z', 'Z', 'X']\n",
      "['L'] 869\n",
      "['X', 'X', 'Z']\n",
      "['S'] 948\n",
      "['X']\n",
      "['Z'] 1034\n",
      "[]\n",
      "['X'] 1118\n",
      "[] {'A': -26, 'B': -44, 'C': -12, 'D': -34, 'E': -24, 'F': -38, 'G': -40, 'H': -22, 'I': -52, 'J': -42, 'K': -36, 'L': -8, 'M': -16, 'N': -32, 'O': -18, 'P': -14, 'Q': -20, 'R': -10, 'S': -6, 'T': -50, 'U': -48, 'V': -30, 'W': -46, 'X': -2, 'Y': -28, 'Z': -4} 1118 ['I', 'T', 'U', 'W', 'B', 'J', 'G', 'F', 'K', 'D', 'N', 'V', 'Y', 'A', 'E', 'H', 'Q', 'O', 'M', 'P', 'C', 'R', 'L', 'S', 'Z', 'X']\n"
     ]
    }
   ],
   "source": [
    "while len(alphacheck) != 0:\n",
    "\n",
    "    notavail = []\n",
    "    for step in setorder:\n",
    "        if step[5] not in complete:\n",
    "            actstep = step[36]\n",
    "            notavail.append(actstep)\n",
    "    print(notavail)\n",
    "\n",
    "    i=0\n",
    "    while i < len(alphacheck):\n",
    "        if alphacheck[i] not in notavail:\n",
    "            order.append(alphacheck[i])\n",
    "            alphacheck.remove(alphacheck[i])\n",
    "        else:\n",
    "            i+=1\n",
    "    \n",
    "    #for letter in alphacheck:\n",
    "        #if letter not in notavail:\n",
    "            #order.append(letter)\n",
    "            #alphacheck.remove(letter)\n",
    "\n",
    "    while 0 not in parttiming.values():\n",
    "        for part in order:\n",
    "\n",
    "            parttiming[part]-=1\n",
    "        \n",
    "        seconds+=1\n",
    "    print(order, seconds)\n",
    "    for letter in parttiming:\n",
    "        if parttiming[letter] ==0:\n",
    "            order.pop(order.index(letter))\n",
    "            complete.append(letter)\n",
    "\n",
    "    for part in complete:\n",
    "        parttiming[part]-=2\n",
    "    \n",
    "print(order, parttiming, seconds, complete)"
   ]
  },
  {
   "cell_type": "code",
   "execution_count": null,
   "metadata": {},
   "outputs": [],
   "source": [
    "len(complete)"
   ]
  },
  {
   "cell_type": "code",
   "execution_count": null,
   "metadata": {},
   "outputs": [],
   "source": []
  },
  {
   "cell_type": "code",
   "execution_count": null,
   "metadata": {},
   "outputs": [],
   "source": []
  }
 ],
 "metadata": {
  "kernelspec": {
   "display_name": "Python 3",
   "language": "python",
   "name": "python3"
  },
  "language_info": {
   "codemirror_mode": {
    "name": "ipython",
    "version": 3
   },
   "file_extension": ".py",
   "mimetype": "text/x-python",
   "name": "python",
   "nbconvert_exporter": "python",
   "pygments_lexer": "ipython3",
   "version": "3.6.3"
  }
 },
 "nbformat": 4,
 "nbformat_minor": 2
}
