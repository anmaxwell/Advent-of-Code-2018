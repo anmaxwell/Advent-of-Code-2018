{
 "cells": [
  {
   "cell_type": "code",
   "execution_count": 205,
   "metadata": {},
   "outputs": [
    {
     "data": {
      "text/plain": [
       "'\\nOf these box IDs, four of them contain a letter which appears exactly twice, and three of them contain a letter which \\nappears exactly three times. Multiplying these together produces a checksum of 4 * 3 = 12.\\n\\nWhat is the checksum for your list of box IDs?\\n'"
      ]
     },
     "execution_count": 205,
     "metadata": {},
     "output_type": "execute_result"
    }
   ],
   "source": [
    "# Advent of Code Day:2 puzzle:1\n",
    "'''\n",
    "Of these box IDs, four of them contain a letter which appears exactly twice, and three of them contain a letter which \n",
    "appears exactly three times. Multiplying these together produces a checksum of 4 * 3 = 12.\n",
    "\n",
    "What is the checksum for your list of box IDs?\n",
    "'''"
   ]
  },
  {
   "cell_type": "code",
   "execution_count": 206,
   "metadata": {
    "collapsed": true
   },
   "outputs": [],
   "source": [
    "boxids = []\n",
    "inputfile = open('/Users/aniamaxwell/Desktop/input2.txt', 'r')\n",
    "for line in inputfile:\n",
    "    boxids.append(line)"
   ]
  },
  {
   "cell_type": "code",
   "execution_count": 207,
   "metadata": {},
   "outputs": [
    {
     "name": "stdout",
     "output_type": "stream",
     "text": [
      "250\n"
     ]
    }
   ],
   "source": [
    "print(len(boxids))"
   ]
  },
  {
   "cell_type": "code",
   "execution_count": 208,
   "metadata": {},
   "outputs": [
    {
     "name": "stdout",
     "output_type": "stream",
     "text": [
      "5658\n"
     ]
    }
   ],
   "source": [
    "i=0\n",
    "two = 0\n",
    "three = 0\n",
    "    \n",
    "for box in boxids:\n",
    "        \n",
    "    freqcounter = {}\n",
    "    for letter in box:\n",
    "\n",
    "        if letter in freqcounter:\n",
    "            freqcounter[letter] +=1\n",
    "        else:            \n",
    "            freqcounter[letter] = 1\n",
    "\n",
    "    if 2 in freqcounter.values():\n",
    "        two +=1\n",
    "    if 3 in freqcounter.values():\n",
    "        three +=1\n",
    "\n",
    "print(two*three)       \n",
    "\n"
   ]
  },
  {
   "cell_type": "code",
   "execution_count": 209,
   "metadata": {},
   "outputs": [
    {
     "data": {
      "text/plain": [
       "'\\nThe IDs abcde and axcye are close, but they differ by two characters \\n(the second and fourth). However, the IDs fghij and fguij differ by exactly \\none character, the third (h and u). Those must be the correct boxes.\\n\\nWhat letters are common between the two correct box IDs? (In the example \\nabove, this is found by removing the differing character from either ID, producing fgij.)\\n'"
      ]
     },
     "execution_count": 209,
     "metadata": {},
     "output_type": "execute_result"
    }
   ],
   "source": [
    "# Advent of Code Day:2 puzzle:2\n",
    "'''\n",
    "The IDs abcde and axcye are close, but they differ by two characters \n",
    "(the second and fourth). However, the IDs fghij and fguij differ by exactly \n",
    "one character, the third (h and u). Those must be the correct boxes.\n",
    "\n",
    "What letters are common between the two correct box IDs? (In the example \n",
    "above, this is found by removing the differing character from either ID, producing fgij.)\n",
    "'''\n"
   ]
  },
  {
   "cell_type": "code",
   "execution_count": 219,
   "metadata": {
    "collapsed": true
   },
   "outputs": [],
   "source": [
    "boxchars1 = ['abcde', 'fghij', 'klmno', 'pqrst', 'fguij', 'axcye', 'wvxyz']\n",
    "boxchars = boxids"
   ]
  },
  {
   "cell_type": "code",
   "execution_count": 224,
   "metadata": {},
   "outputs": [
    {
     "name": "stdout",
     "output_type": "stream",
     "text": [
      "['ndmgyjkpruszlbaqwficavxneo\\n', 'nomgyjkpruszlbaqwficavxneo\\n']\n"
     ]
    }
   ],
   "source": [
    "dictcount=0    \n",
    "similarwords=[]    \n",
    "    \n",
    "for box in boxchars:\n",
    "\n",
    "\n",
    "    strcount=dictcount+1\n",
    "    \n",
    "\n",
    "    while strcount< len(boxchars):\n",
    "        similarcount=0\n",
    "\n",
    "        #print(box, boxchars[strcount],strcount)\n",
    "        for i in range(len(box)):\n",
    "            #print(box[i], boxchars[strcount][i])\n",
    "            if box[i] == boxchars[strcount][i]:\n",
    "                similarcount +=1\n",
    "                \n",
    "        #print(box,boxchars[strcount], similarcount)\n",
    "        if similarcount == (len(box)-1):\n",
    "            similarwords.extend((box,boxchars[strcount]))\n",
    "\n",
    "        \n",
    "        strcount+=1\n",
    "    dictcount +=1\n",
    "\n",
    "print(similarwords)"
   ]
  },
  {
   "cell_type": "code",
   "execution_count": 161,
   "metadata": {},
   "outputs": [
    {
     "name": "stdout",
     "output_type": "stream",
     "text": [
      "c\n"
     ]
    }
   ],
   "source": [
    "test = ['acd', 'bcd']\n",
    "print(test[1][1])"
   ]
  },
  {
   "cell_type": "code",
   "execution_count": null,
   "metadata": {
    "collapsed": true
   },
   "outputs": [],
   "source": []
  },
  {
   "cell_type": "code",
   "execution_count": null,
   "metadata": {
    "collapsed": true
   },
   "outputs": [],
   "source": []
  }
 ],
 "metadata": {
  "kernelspec": {
   "display_name": "Python 3",
   "language": "python",
   "name": "python3"
  },
  "language_info": {
   "codemirror_mode": {
    "name": "ipython",
    "version": 3
   },
   "file_extension": ".py",
   "mimetype": "text/x-python",
   "name": "python",
   "nbconvert_exporter": "python",
   "pygments_lexer": "ipython3",
   "version": "3.6.1"
  }
 },
 "nbformat": 4,
 "nbformat_minor": 2
}
