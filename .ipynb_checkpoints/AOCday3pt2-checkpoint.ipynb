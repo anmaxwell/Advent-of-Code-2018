{
 "cells": [
  {
   "cell_type": "code",
   "execution_count": null,
   "metadata": {
    "collapsed": true
   },
   "outputs": [],
   "source": [
    "# Advent of Code Day:3 puzzle:1\n",
    "'''\n",
    "If the Elves all proceed with their own plans, \n",
    "none of them will have enough fabric. How many \n",
    "square inches of fabric are within two or more claims?\n",
    "'''"
   ]
  },
  {
   "cell_type": "code",
   "execution_count": 13,
   "metadata": {},
   "outputs": [
    {
     "name": "stdout",
     "output_type": "stream",
     "text": [
      "['#1 @ 527,351: 24x10\\n', '#2 @ 384,468: 27x21\\n', '#3 @ 547,294: 19x13\\n', '#4 @ 910,172: 19x18\\n', '#5 @ 409,238: 25x10\\n']\n"
     ]
    }
   ],
   "source": [
    "claims = []\n",
    "inputfile = open('/Users/aniamaxwell/Desktop/input3.txt', 'r')\n",
    "for line in inputfile:\n",
    "    claims.append(line)\n",
    "    \n",
    "print(claims[0:5])\n",
    "    "
   ]
  },
  {
   "cell_type": "code",
   "execution_count": 14,
   "metadata": {
    "collapsed": true
   },
   "outputs": [],
   "source": [
    "#claims = ['#1 @ 1,3: 4x4\\n', '#2 @ 3,1: 4x4\\n', '#3 @ 5,5: 2x2\\n']"
   ]
  },
  {
   "cell_type": "code",
   "execution_count": 58,
   "metadata": {
    "collapsed": true
   },
   "outputs": [],
   "source": [
    "import re\n",
    "boxes = {}\n",
    "singles = {}\n",
    "\n",
    "\n",
    "\n",
    "for item in claims:\n",
    "    a=((re.split('# |@ |,|: |x|\\n',item)))\n",
    "    #print(a[0])\n",
    "    \n",
    "    for j in range(int(a[3])):\n",
    "        for i in range(int(a[4])):\n",
    "            start = (((int(a[2])+i)*1000)+int(a[1])+1)+j\n",
    "            #print(start)\n",
    "            if start in boxes:\n",
    "                boxes[start]+=1\n",
    "                singles[start].append(a[0])\n",
    "\n",
    "            else:\n",
    "                boxes[start]=1\n",
    "                singles[start]=[a[0]]\n",
    "\n",
    "\n",
    "\n"
   ]
  },
  {
   "cell_type": "code",
   "execution_count": 59,
   "metadata": {},
   "outputs": [
    {
     "name": "stdout",
     "output_type": "stream",
     "text": [
      "112378\n",
      "237724\n"
     ]
    }
   ],
   "source": [
    "counter = 0\n",
    "singlecounter = 0\n",
    "\n",
    "for pair in boxes:\n",
    "    if boxes[pair] >1:\n",
    "        counter +=1\n",
    "    if boxes[pair] ==1:\n",
    "        singlecounter +=1\n",
    "        \n",
    "print(counter)\n",
    "print(singlecounter)\n"
   ]
  },
  {
   "cell_type": "code",
   "execution_count": 60,
   "metadata": {},
   "outputs": [
    {
     "ename": "TypeError",
     "evalue": "unhashable type: 'slice'",
     "output_type": "error",
     "traceback": [
      "\u001b[0;31m---------------------------------------------------------------------------\u001b[0m",
      "\u001b[0;31mTypeError\u001b[0m                                 Traceback (most recent call last)",
      "\u001b[0;32m<ipython-input-60-a415a4384da6>\u001b[0m in \u001b[0;36m<module>\u001b[0;34m()\u001b[0m\n\u001b[0;32m----> 1\u001b[0;31m \u001b[0mprint\u001b[0m\u001b[0;34m(\u001b[0m\u001b[0;34m(\u001b[0m\u001b[0msingles\u001b[0m\u001b[0;34m[\u001b[0m\u001b[0;36m0\u001b[0m\u001b[0;34m:\u001b[0m\u001b[0;36m5\u001b[0m\u001b[0;34m]\u001b[0m\u001b[0;34m)\u001b[0m\u001b[0;34m)\u001b[0m\u001b[0;34m\u001b[0m\u001b[0m\n\u001b[0m",
      "\u001b[0;31mTypeError\u001b[0m: unhashable type: 'slice'"
     ]
    }
   ],
   "source": [
    "unique =[]\n",
    "for one in singles:\n",
    "    if singles[one]"
   ]
  },
  {
   "cell_type": "code",
   "execution_count": 41,
   "metadata": {},
   "outputs": [
    {
     "name": "stdout",
     "output_type": "stream",
     "text": [
      "['#1331 ']\n"
     ]
    }
   ],
   "source": [
    "print(singles[713330])"
   ]
  },
  {
   "cell_type": "code",
   "execution_count": null,
   "metadata": {
    "collapsed": true
   },
   "outputs": [],
   "source": []
  }
 ],
 "metadata": {
  "kernelspec": {
   "display_name": "Python 3",
   "language": "python",
   "name": "python3"
  },
  "language_info": {
   "codemirror_mode": {
    "name": "ipython",
    "version": 3
   },
   "file_extension": ".py",
   "mimetype": "text/x-python",
   "name": "python",
   "nbconvert_exporter": "python",
   "pygments_lexer": "ipython3",
   "version": "3.6.1"
  }
 },
 "nbformat": 4,
 "nbformat_minor": 2
}
