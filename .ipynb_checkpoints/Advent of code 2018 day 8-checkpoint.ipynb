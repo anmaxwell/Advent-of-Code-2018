{
 "cells": [
  {
   "cell_type": "code",
   "execution_count": null,
   "metadata": {},
   "outputs": [],
   "source": [
    "# Advent of Code Day:8 puzzle:1\n",
    "\n",
    "'''\n",
    "What is the sum of all metadata entries?\n",
    "\n",
    "'''"
   ]
  },
  {
   "cell_type": "code",
   "execution_count": null,
   "metadata": {},
   "outputs": [],
   "source": [
    "with open('/Users/Ania/input8.txt', 'r') as myfile:\n",
    "    filecntent = myfile.readlines()\n",
    "\n",
    "parttree = filecntent[0].split()\n",
    "parttree1 = ['2', '3', '0', '3', '10', '11', '12', '1', '1', '0', '1', '99', '2', '1', '1', '2']"
   ]
  },
  {
   "cell_type": "code",
   "execution_count": null,
   "metadata": {},
   "outputs": [],
   "source": [
    "#convert to int\n",
    "i=0\n",
    "for i in range(len(parttree)):\n",
    "    parttree[i] = int(parttree[i])\n",
    "    i+=1"
   ]
  },
  {
   "cell_type": "code",
   "execution_count": null,
   "metadata": {},
   "outputs": [],
   "source": [
    "i=2\n",
    "metadata = 0\n",
    "while len(parttree) >0:\n",
    "    #print(\"i is\", i)\n",
    "    if parttree[i] == 0:\n",
    "\n",
    "        #print(parttree)\n",
    "        for j in range(parttree[i+1]):\n",
    "            #print(\"to sum\", parttree[i+2+j])   \n",
    "            metadata += parttree[i+2+j]\n",
    "        \n",
    "        remove = (parttree[i+1])+2\n",
    "        #print(\"remove\", remove, \"len\", len(parttree), parttree[i])\n",
    "        \n",
    "        parttree[i-2]-=1\n",
    "        \n",
    "        for k in range(remove):\n",
    "            #print(\"remove\", parttree[i])\n",
    "            parttree.pop(i)\n",
    "            \n",
    "            #print(parttree)\n",
    "        i=0\n",
    "    else:\n",
    "        #print(\"no\")\n",
    "        i+=2\n",
    "    \n",
    "print(\"final\",parttree, metadata)"
   ]
  },
  {
   "cell_type": "code",
   "execution_count": null,
   "metadata": {},
   "outputs": [],
   "source": []
  },
  {
   "cell_type": "code",
   "execution_count": null,
   "metadata": {},
   "outputs": [],
   "source": []
  }
 ],
 "metadata": {
  "kernelspec": {
   "display_name": "Python 3",
   "language": "python",
   "name": "python3"
  },
  "language_info": {
   "codemirror_mode": {
    "name": "ipython",
    "version": 3
   },
   "file_extension": ".py",
   "mimetype": "text/x-python",
   "name": "python",
   "nbconvert_exporter": "python",
   "pygments_lexer": "ipython3",
   "version": "3.6.3"
  }
 },
 "nbformat": 4,
 "nbformat_minor": 2
}
