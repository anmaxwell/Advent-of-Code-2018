{
 "cells": [
  {
   "cell_type": "code",
   "execution_count": 1,
   "metadata": {},
   "outputs": [
    {
     "data": {
      "text/plain": [
       "'\\nWhat is the sum of all metadata entries?\\n\\n'"
      ]
     },
     "execution_count": 1,
     "metadata": {},
     "output_type": "execute_result"
    }
   ],
   "source": [
    "# Advent of Code Day:8 puzzle:1\n",
    "\n",
    "'''\n",
    "What is the sum of all metadata entries?\n",
    "\n",
    "'''"
   ]
  },
  {
   "cell_type": "code",
   "execution_count": 5,
   "metadata": {
    "collapsed": true
   },
   "outputs": [],
   "source": [
    "with open('/Users/Ania/input8.txt', 'r') as myfile:\n",
    "    filecntent = myfile.readlines()\n",
    "\n",
    "parttree = filecntent[0].split()\n",
    "parttree1 = ['2', '3', '0', '3', '10', '11', '12', '1', '1', '0', '1', '99', '2', '1', '1', '2']"
   ]
  },
  {
   "cell_type": "code",
   "execution_count": 6,
   "metadata": {
    "collapsed": true
   },
   "outputs": [],
   "source": [
    "#convert to int\n",
    "i=0\n",
    "for i in range(len(parttree)):\n",
    "    parttree[i] = int(parttree[i])\n",
    "    i+=1"
   ]
  },
  {
   "cell_type": "code",
   "execution_count": 7,
   "metadata": {},
   "outputs": [
    {
     "name": "stdout",
     "output_type": "stream",
     "text": [
      "final [] 38722 1609\n"
     ]
    }
   ],
   "source": [
    "i=2\n",
    "metadata = 0\n",
    "counter = 0\n",
    "while len(parttree) >0:\n",
    "    #print(\"i is\", i)\n",
    "    if parttree[i] == 0:\n",
    "\n",
    "        #print(parttree)\n",
    "        for j in range(parttree[i+1]):\n",
    "            #print(\"to sum\", parttree[i+2+j])   \n",
    "            metadata += parttree[i+2+j]\n",
    "        \n",
    "        remove = (parttree[i+1])+2\n",
    "        #print(\"remove\", remove, \"len\", len(parttree), parttree[i])\n",
    "        \n",
    "        parttree[i-2]-=1\n",
    "        counter +=1\n",
    "        \n",
    "        for k in range(remove):\n",
    "            #print(\"remove\", parttree[i])\n",
    "            parttree.pop(i)\n",
    "            \n",
    "            #print(parttree)\n",
    "        i=0\n",
    "    else:\n",
    "        #print(\"no\")\n",
    "        i+=2\n",
    "    \n",
    "print(\"final\",parttree, metadata, counter)"
   ]
  },
  {
   "cell_type": "code",
   "execution_count": null,
   "metadata": {
    "collapsed": true
   },
   "outputs": [],
   "source": []
  },
  {
   "cell_type": "code",
   "execution_count": null,
   "metadata": {
    "collapsed": true
   },
   "outputs": [],
   "source": []
  }
 ],
 "metadata": {
  "kernelspec": {
   "display_name": "Python 3",
   "language": "python",
   "name": "python3"
  },
  "language_info": {
   "codemirror_mode": {
    "name": "ipython",
    "version": 3
   },
   "file_extension": ".py",
   "mimetype": "text/x-python",
   "name": "python",
   "nbconvert_exporter": "python",
   "pygments_lexer": "ipython3",
   "version": "3.6.1"
  }
 },
 "nbformat": 4,
 "nbformat_minor": 2
}
