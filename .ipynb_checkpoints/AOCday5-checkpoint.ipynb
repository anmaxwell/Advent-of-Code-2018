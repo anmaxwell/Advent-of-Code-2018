{
 "cells": [
  {
   "cell_type": "code",
   "execution_count": 1,
   "metadata": {},
   "outputs": [
    {
     "data": {
      "text/plain": [
       "'\\nHow many units remain after fully reacting the polymer you scanned? \\n'"
      ]
     },
     "execution_count": 1,
     "metadata": {},
     "output_type": "execute_result"
    }
   ],
   "source": [
    "# Advent of Code Day:5 puzzle:1\n",
    "'''\n",
    "How many units remain after fully reacting the polymer you scanned? \n",
    "'''"
   ]
  },
  {
   "cell_type": "code",
   "execution_count": 204,
   "metadata": {
    "collapsed": true
   },
   "outputs": [],
   "source": [
    "with open('/Users/aniamaxwell/Desktop/input5.txt', 'r') as myfile:\n",
    "  data1 = myfile.read()"
   ]
  },
  {
   "cell_type": "code",
   "execution_count": 216,
   "metadata": {
    "collapsed": true
   },
   "outputs": [],
   "source": [
    "data2 = 'dabAcCaCBAcCcaDA'\n",
    "data1 = 'abcd'\n",
    "data = 'abBcd'\n",
    "data3 = 'DACbBcab'"
   ]
  },
  {
   "cell_type": "code",
   "execution_count": 217,
   "metadata": {},
   "outputs": [
    {
     "data": {
      "text/plain": [
       "5"
      ]
     },
     "execution_count": 217,
     "metadata": {},
     "output_type": "execute_result"
    }
   ],
   "source": [
    "len(data)"
   ]
  },
  {
   "cell_type": "code",
   "execution_count": 218,
   "metadata": {},
   "outputs": [
    {
     "ename": "KeyboardInterrupt",
     "evalue": "",
     "output_type": "error",
     "traceback": [
      "\u001b[0;31m---------------------------------------------------------------------------\u001b[0m",
      "\u001b[0;31mKeyboardInterrupt\u001b[0m                         Traceback (most recent call last)",
      "\u001b[0;32m<ipython-input-218-a0bd211f8106>\u001b[0m in \u001b[0;36m<module>\u001b[0;34m()\u001b[0m\n\u001b[1;32m      2\u001b[0m \u001b[0mi\u001b[0m\u001b[0;34m=\u001b[0m\u001b[0;36m0\u001b[0m\u001b[0;34m\u001b[0m\u001b[0m\n\u001b[1;32m      3\u001b[0m \u001b[0;32mwhile\u001b[0m \u001b[0mi\u001b[0m \u001b[0;34m<\u001b[0m\u001b[0mlen\u001b[0m\u001b[0;34m(\u001b[0m\u001b[0mpolymer\u001b[0m\u001b[0;34m)\u001b[0m\u001b[0;34m:\u001b[0m\u001b[0;34m\u001b[0m\u001b[0m\n\u001b[0;32m----> 4\u001b[0;31m     \u001b[0;32mif\u001b[0m \u001b[0mpolymer\u001b[0m\u001b[0;34m[\u001b[0m\u001b[0mi\u001b[0m\u001b[0;34m]\u001b[0m\u001b[0;34m==\u001b[0m\u001b[0;34m'b'\u001b[0m\u001b[0;34m:\u001b[0m\u001b[0;34m\u001b[0m\u001b[0m\n\u001b[0m\u001b[1;32m      5\u001b[0m         \u001b[0;32mdel\u001b[0m \u001b[0mpolymer\u001b[0m\u001b[0;34m[\u001b[0m\u001b[0mi\u001b[0m\u001b[0;34m]\u001b[0m\u001b[0;34m\u001b[0m\u001b[0m\n\u001b[1;32m      6\u001b[0m \u001b[0;34m\u001b[0m\u001b[0m\n",
      "\u001b[0;31mKeyboardInterrupt\u001b[0m: "
     ]
    }
   ],
   "source": [
    "polymer = list(data)\n",
    "i=0\n",
    "while i <len(polymer):\n",
    "    if polymer[i]=='b':\n",
    "        del polymer[i]\n",
    "    \n",
    "print(polymer)    "
   ]
  },
  {
   "cell_type": "code",
   "execution_count": 212,
   "metadata": {},
   "outputs": [
    {
     "name": "stdout",
     "output_type": "stream",
     "text": [
      "4\n",
      "['d', 'a', 'b', 'A']\n"
     ]
    }
   ],
   "source": [
    "polymer = list(data)\n",
    "change = 1\n",
    "loop = 0\n",
    "\n",
    "while change >0:\n",
    "\n",
    "    newoutput = []\n",
    "    i=0\n",
    "    change = 0\n",
    "\n",
    "    while i < (len(polymer)-1):\n",
    "\n",
    "        if polymer[i].islower() & polymer[i+1].isupper():\n",
    "            if polymer[i].upper() == polymer[i+1]:\n",
    "                change+=1\n",
    "                del polymer[i]\n",
    "                del polymer[i+1]\n",
    "                break\n",
    "                \n",
    "                \n",
    "            else:\n",
    "                newoutput.append(polymer[i])\n",
    "                #print(i,\"L to U\", polymer[i]) \n",
    "\n",
    "        elif polymer[i].isupper() & polymer[i+1].islower():\n",
    "            if polymer[i].lower() == polymer[i+1]:\n",
    "\n",
    "                change+=1\n",
    "                del polymer[i]\n",
    "                del polymer[i+1]\n",
    "                break\n",
    "                \n",
    "            else:\n",
    "                newoutput.append(polymer[i])\n",
    "                #print(i,\"U to L\", polymer[i]) \n",
    "\n",
    "        else:\n",
    "            newoutput.append(polymer[i])\n",
    "            #print(i,\"no match\",polymer[i])\n",
    "\n",
    "        if (i+1) == len(polymer)-1:\n",
    "            newoutput.append(polymer[i+1])     \n",
    "\n",
    "        i+=1    \n",
    "\n",
    "\n",
    "\n",
    "    polymer = newoutput\n",
    "    #print(\"loop\",loop)\n",
    "    loop +=1\n",
    "    \n",
    "print(len(newoutput))\n",
    "print(newoutput)\n",
    "        "
   ]
  },
  {
   "cell_type": "code",
   "execution_count": null,
   "metadata": {
    "collapsed": true
   },
   "outputs": [],
   "source": [
    "import itertools\n",
    "newoutput = []\n",
    "\n",
    "\n",
    "for iterator in itertools.cycle(polymer):\n",
    "    for i in range(len(polymer)-1):\n",
    "        counter = 0\n",
    "        if polymer[i].islower() & polymer[i+1].islower():\n",
    "            newoutput.append(polymer[i])\n",
    "            print(polymer[i])       \n",
    "        elif polymer[i].isupper() & polymer[i+1].isupper():\n",
    "            newoutput.append(polymer[i])\n",
    "            print(polymer[i]) \n",
    "        elif polymer[i].islower() & polymer[i+1].isupper():\n",
    "            if polymer[i].upper() != polymer[i+1]:\n",
    "                newoutput.append(polymer[i])\n",
    "                print(polymer[i]) \n",
    "            else:\n",
    "                counter+=1\n",
    "                print(counter)\n",
    "        elif polymer[i].isupper() & polymer[i+1].islower():\n",
    "            if polymer[i].lower() != polymer[i+1]:\n",
    "                newoutput.append(polymer[i])\n",
    "                print(polymer[i]) \n",
    "            else:\n",
    "                counter+=1\n",
    "                print(counter)\n",
    "    if counter == 0:\n",
    "        break\n",
    "\n",
    "  \n",
    "print(newoutput)"
   ]
  }
 ],
 "metadata": {
  "kernelspec": {
   "display_name": "Python 3",
   "language": "python",
   "name": "python3"
  },
  "language_info": {
   "codemirror_mode": {
    "name": "ipython",
    "version": 3
   },
   "file_extension": ".py",
   "mimetype": "text/x-python",
   "name": "python",
   "nbconvert_exporter": "python",
   "pygments_lexer": "ipython3",
   "version": "3.6.1"
  }
 },
 "nbformat": 4,
 "nbformat_minor": 2
}
