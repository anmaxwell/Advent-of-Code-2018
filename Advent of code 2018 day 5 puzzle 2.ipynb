{
 "cells": [
  {
   "cell_type": "code",
   "execution_count": null,
   "metadata": {
    "collapsed": true
   },
   "outputs": [],
   "source": [
    "# Advent of Code Day:5 puzzle:1\n",
    "'''\n",
    "How many units remain after fully reacting the polymer you scanned? \n",
    "'''"
   ]
  },
  {
   "cell_type": "code",
   "execution_count": 56,
   "metadata": {
    "collapsed": true
   },
   "outputs": [],
   "source": [
    "with open('/Users/aniamaxwell/Desktop/input5.txt', 'r') as myfile:\n",
    "  data = myfile.read()"
   ]
  },
  {
   "cell_type": "code",
   "execution_count": 57,
   "metadata": {
    "collapsed": true
   },
   "outputs": [],
   "source": [
    "data = data.rstrip('\\n')"
   ]
  },
  {
   "cell_type": "code",
   "execution_count": 58,
   "metadata": {},
   "outputs": [
    {
     "name": "stdout",
     "output_type": "stream",
     "text": [
      "['a', 'b', 'c', 'd', 'e', 'f', 'g', 'h', 'i', 'j', 'k', 'l', 'm', 'n', 'o', 'p', 'q', 'r', 's', 't', 'u', 'v', 'w', 'x', 'y', 'z']\n"
     ]
    }
   ],
   "source": [
    "import string\n",
    "alphabet=list(string.ascii_lowercase)\n",
    "\n",
    "print(alphabet) "
   ]
  },
  {
   "cell_type": "code",
   "execution_count": 59,
   "metadata": {
    "collapsed": true
   },
   "outputs": [],
   "source": [
    "list1 = 'dabAcCaCBAcCcaDA'\n",
    "list2 = 'abcd'\n",
    "list3 = 'abBcd'\n",
    "list4 = 'DACbBcaAbAcB'\n",
    "list5 = 'DAcCabBA'\n",
    "list6 = 'DACBbcaAbAcB'"
   ]
  },
  {
   "cell_type": "code",
   "execution_count": 60,
   "metadata": {
    "collapsed": true
   },
   "outputs": [],
   "source": [
    "stringtotest = list(data)"
   ]
  },
  {
   "cell_type": "code",
   "execution_count": 61,
   "metadata": {},
   "outputs": [
    {
     "data": {
      "text/plain": [
       "50000"
      ]
     },
     "execution_count": 61,
     "metadata": {},
     "output_type": "execute_result"
    }
   ],
   "source": [
    "len(stringtotest)"
   ]
  },
  {
   "cell_type": "code",
   "execution_count": 62,
   "metadata": {
    "collapsed": true
   },
   "outputs": [],
   "source": [
    "def AdventDay5Puzzle2(polymer):\n",
    "\n",
    "    count=0\n",
    "    change = 1\n",
    "\n",
    "    while change >0:\n",
    "        #print(count)\n",
    "        change = 0\n",
    "        polymerlen = len(polymer)-1\n",
    "        while count < polymerlen:\n",
    "\n",
    "            this = polymer[count]\n",
    "            nextOne = polymer[count+1]\n",
    "            \n",
    "            if (this.islower() & nextOne.isupper()) or (this.isupper() & nextOne.islower()):\n",
    "                check1 = this.upper()\n",
    "                check2 = nextOne.upper()\n",
    "                if check1 == check2:\n",
    "                    #print(polymer[count],polymer[count+1])\n",
    "                    del polymer[count]\n",
    "                    del polymer[count]\n",
    "                    change +=1\n",
    "                    count=0\n",
    "                    break\n",
    "\n",
    "            count+=1\n",
    "\n",
    "    return (len(polymer))\n"
   ]
  },
  {
   "cell_type": "code",
   "execution_count": 55,
   "metadata": {},
   "outputs": [
    {
     "data": {
      "text/plain": [
       "9268"
      ]
     },
     "execution_count": 55,
     "metadata": {},
     "output_type": "execute_result"
    }
   ],
   "source": [
    "AdventDay5Puzzle2(stringtotest)"
   ]
  },
  {
   "cell_type": "code",
   "execution_count": 42,
   "metadata": {
    "collapsed": true
   },
   "outputs": [],
   "source": [
    "#loop through the alphabet \n",
    "#loop through the list\n",
    "#remove each letter both cases\n",
    "#put through the function\n",
    "#store the letter and the length in a dictionary"
   ]
  },
  {
   "cell_type": "code",
   "execution_count": 63,
   "metadata": {
    "collapsed": true
   },
   "outputs": [],
   "source": [
    "alphabets = ['t','a']"
   ]
  },
  {
   "cell_type": "code",
   "execution_count": 65,
   "metadata": {},
   "outputs": [
    {
     "name": "stdout",
     "output_type": "stream",
     "text": [
      "LETTER IS a\n",
      "50000\n",
      "letter now a\n",
      "length string 48050\n",
      "LETTER IS b\n",
      "50000\n",
      "letter now b\n",
      "length string 48104\n",
      "LETTER IS c\n",
      "50000\n",
      "letter now c\n",
      "length string 48130\n",
      "LETTER IS d\n",
      "50000\n",
      "letter now d\n",
      "length string 48088\n",
      "LETTER IS e\n",
      "50000\n",
      "letter now e\n",
      "length string 48108\n",
      "LETTER IS f\n",
      "50000\n",
      "letter now f\n",
      "length string 48200\n",
      "LETTER IS g\n",
      "50000\n",
      "letter now g\n",
      "length string 48006\n",
      "LETTER IS h\n",
      "50000\n",
      "letter now h\n",
      "length string 48052\n",
      "LETTER IS i\n",
      "50000\n",
      "letter now i\n",
      "length string 48052\n",
      "LETTER IS j\n",
      "50000\n",
      "letter now j\n",
      "length string 48038\n",
      "LETTER IS k\n",
      "50000\n",
      "letter now k\n",
      "length string 48010\n",
      "LETTER IS l\n",
      "50000\n",
      "letter now l\n",
      "length string 48178\n",
      "LETTER IS m\n",
      "50000\n",
      "letter now m\n",
      "length string 47982\n",
      "LETTER IS n\n",
      "50000\n",
      "letter now n\n",
      "length string 48032\n",
      "LETTER IS o\n",
      "50000\n",
      "letter now o\n",
      "length string 48130\n",
      "LETTER IS p\n",
      "50000\n",
      "letter now p\n",
      "length string 48138\n",
      "LETTER IS q\n",
      "50000\n",
      "letter now q\n",
      "length string 48012\n",
      "LETTER IS r\n",
      "50000\n",
      "letter now r\n",
      "length string 48082\n",
      "LETTER IS s\n",
      "50000\n",
      "letter now s\n",
      "length string 48020\n",
      "LETTER IS t\n",
      "50000\n",
      "letter now t\n",
      "length string 48096\n",
      "LETTER IS u\n",
      "50000\n",
      "letter now u\n",
      "length string 48050\n",
      "LETTER IS v\n",
      "50000\n",
      "letter now v\n",
      "length string 48006\n",
      "LETTER IS w\n",
      "50000\n",
      "letter now w\n",
      "length string 48110\n",
      "LETTER IS x\n",
      "50000\n",
      "letter now x\n",
      "length string 48136\n",
      "LETTER IS y\n",
      "50000\n",
      "letter now y\n",
      "length string 48126\n",
      "LETTER IS z\n",
      "50000\n",
      "letter now z\n",
      "length string 48064\n",
      "{'a': 9272, 'b': 9368, 'c': 9262, 'd': 9282, 'e': 9304, 'f': 9316, 'g': 9314, 'h': 9316, 'i': 9276, 'j': 9336, 'k': 5524, 'l': 9314, 'm': 9228, 'n': 9274, 'o': 9320, 'p': 9322, 'q': 9306, 'r': 9326, 's': 9284, 't': 9250, 'u': 9280, 'v': 9260, 'w': 9364, 'x': 9368, 'y': 9278, 'z': 9268}\n"
     ]
    }
   ],
   "source": [
    "lettercount ={}\n",
    "\n",
    "for letter in alphabet:\n",
    "    \n",
    "    firstrun = list(data)\n",
    "    \n",
    "    i=0\n",
    "\n",
    "    print(\"LETTER IS\", letter)\n",
    "    print(len(firstrun))\n",
    "\n",
    "    check1 = letter.lower()\n",
    "    check2 = letter.upper()\n",
    "    \n",
    "    while i< len(firstrun):\n",
    "\n",
    "        if (firstrun[i] == check1) or (firstrun[i] == check2):\n",
    "            del firstrun[i]\n",
    "        else:\n",
    "            i+=1\n",
    "    \n",
    "    print(\"letter now\", letter)\n",
    "    print(\"length string\", len(firstrun))\n",
    "    totalcount = AdventDay5Puzzle2(firstrun)\n",
    "    lettercount[letter] = totalcount\n",
    "        \n",
    "  \n",
    "        \n",
    "print(lettercount)"
   ]
  },
  {
   "cell_type": "code",
   "execution_count": null,
   "metadata": {
    "collapsed": true
   },
   "outputs": [],
   "source": [
    "{'z': 12776, 'a': 12694}"
   ]
  },
  {
   "cell_type": "code",
   "execution_count": 66,
   "metadata": {},
   "outputs": [
    {
     "name": "stdout",
     "output_type": "stream",
     "text": [
      "(5524, 'k')\n"
     ]
    }
   ],
   "source": [
    "smallestpolymer = min(zip(lettercount.values(), lettercount.keys()))\n",
    "print(smallestpolymer)"
   ]
  },
  {
   "cell_type": "code",
   "execution_count": null,
   "metadata": {
    "collapsed": true
   },
   "outputs": [],
   "source": []
  }
 ],
 "metadata": {
  "kernelspec": {
   "display_name": "Python 3",
   "language": "python",
   "name": "python3"
  },
  "language_info": {
   "codemirror_mode": {
    "name": "ipython",
    "version": 3
   },
   "file_extension": ".py",
   "mimetype": "text/x-python",
   "name": "python",
   "nbconvert_exporter": "python",
   "pygments_lexer": "ipython3",
   "version": "3.6.1"
  }
 },
 "nbformat": 4,
 "nbformat_minor": 2
}
