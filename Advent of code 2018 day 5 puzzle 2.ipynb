{
 "cells": [
  {
   "cell_type": "code",
   "execution_count": 19,
   "metadata": {},
   "outputs": [
    {
     "data": {
      "text/plain": [
       "'\\nHow many units remain after fully reacting the polymer you scanned? \\n'"
      ]
     },
     "execution_count": 19,
     "metadata": {},
     "output_type": "execute_result"
    }
   ],
   "source": [
    "# Advent of Code Day:5 puzzle:1\n",
    "'''\n",
    "How many units remain after fully reacting the polymer you scanned? \n",
    "'''"
   ]
  },
  {
   "cell_type": "code",
   "execution_count": 48,
   "metadata": {
    "collapsed": true
   },
   "outputs": [],
   "source": [
    "with open('/Users/aniamaxwell/Desktop/input5.txt', 'r') as myfile:\n",
    "  data = myfile.read()"
   ]
  },
  {
   "cell_type": "code",
   "execution_count": 49,
   "metadata": {
    "collapsed": true
   },
   "outputs": [],
   "source": [
    "data = data.rstrip('\\n')"
   ]
  },
  {
   "cell_type": "code",
   "execution_count": 50,
   "metadata": {},
   "outputs": [
    {
     "name": "stdout",
     "output_type": "stream",
     "text": [
      "['a', 'b', 'c', 'd', 'e', 'f', 'g', 'h', 'i', 'j', 'k', 'l', 'm', 'n', 'o', 'p', 'q', 'r', 's', 't', 'u', 'v', 'w', 'x', 'y', 'z']\n"
     ]
    }
   ],
   "source": [
    "import string\n",
    "alphabet=list(string.ascii_lowercase)\n",
    "\n",
    "print(alphabet) "
   ]
  },
  {
   "cell_type": "code",
   "execution_count": 51,
   "metadata": {
    "collapsed": true
   },
   "outputs": [],
   "source": [
    "list1 = 'dabAcCaCBAcCcaDA'\n",
    "list2 = 'abcd'\n",
    "list3 = 'abBcd'\n",
    "list4 = 'DACbBcaAbAcB'\n",
    "list5 = 'DAcCabBA'\n",
    "list6 = 'DACBbcaAbAcB'"
   ]
  },
  {
   "cell_type": "code",
   "execution_count": 52,
   "metadata": {
    "collapsed": true
   },
   "outputs": [],
   "source": [
    "stringtotest = list(data)"
   ]
  },
  {
   "cell_type": "code",
   "execution_count": 53,
   "metadata": {},
   "outputs": [
    {
     "data": {
      "text/plain": [
       "50000"
      ]
     },
     "execution_count": 53,
     "metadata": {},
     "output_type": "execute_result"
    }
   ],
   "source": [
    "len(stringtotest)"
   ]
  },
  {
   "cell_type": "code",
   "execution_count": 54,
   "metadata": {
    "collapsed": true
   },
   "outputs": [],
   "source": [
    "def AdventDay5Puzzle2(polymer):\n",
    "\n",
    "    count=0\n",
    "    change = 1\n",
    "\n",
    "    while change >0:\n",
    "        #print(count)\n",
    "        change = 0\n",
    "        while count < len(polymer)-1:\n",
    "\n",
    "            if (polymer[count].islower() & polymer[count+1].isupper()) or (polymer[count].isupper() & polymer[count+1].islower()):\n",
    "                check1 = polymer[count].upper()\n",
    "                check2 = polymer[count+1].upper()\n",
    "                if check1 == check2:\n",
    "                    #print(polymer[count],polymer[count+1])\n",
    "                    del polymer[count]\n",
    "                    del polymer[count]\n",
    "                    change +=1\n",
    "                    count=0\n",
    "                    break\n",
    "\n",
    "            count+=1\n",
    "\n",
    "    return (len(polymer))\n"
   ]
  },
  {
   "cell_type": "code",
   "execution_count": 55,
   "metadata": {},
   "outputs": [
    {
     "data": {
      "text/plain": [
       "9686"
      ]
     },
     "execution_count": 55,
     "metadata": {},
     "output_type": "execute_result"
    }
   ],
   "source": [
    "AdventDay5Puzzle2(stringtotest)"
   ]
  },
  {
   "cell_type": "code",
   "execution_count": 56,
   "metadata": {
    "collapsed": true
   },
   "outputs": [],
   "source": [
    "#loop through the alphabet \n",
    "#loop through the list\n",
    "#remove each letter both cases\n",
    "#put through the function\n",
    "#store the letter and the length in a dictionary"
   ]
  },
  {
   "cell_type": "code",
   "execution_count": null,
   "metadata": {},
   "outputs": [],
   "source": [
    "lettercount ={}\n",
    "for letter in alphabet:\n",
    "    i=0\n",
    "    while i< len(stringtotest):\n",
    "        check1 = letter.lower()\n",
    "        check2 = letter.upper()\n",
    "        if (stringtotest[i] == check1) or (stringtotest[i] == check2):\n",
    "            del stringtotest[i]\n",
    "        \n",
    "        totalcount = AdventDay5Puzzle2(stringtotest)\n",
    "        lettercount[letter] = totalcount\n",
    "        stringtotest = list(data)\n",
    "            \n",
    "        i+=1\n",
    "        \n",
    "print(lettercount)"
   ]
  },
  {
   "cell_type": "code",
   "execution_count": null,
   "metadata": {
    "collapsed": true
   },
   "outputs": [],
   "source": []
  }
 ],
 "metadata": {
  "kernelspec": {
   "display_name": "Python 3",
   "language": "python",
   "name": "python3"
  },
  "language_info": {
   "codemirror_mode": {
    "name": "ipython",
    "version": 3
   },
   "file_extension": ".py",
   "mimetype": "text/x-python",
   "name": "python",
   "nbconvert_exporter": "python",
   "pygments_lexer": "ipython3",
   "version": "3.6.1"
  }
 },
 "nbformat": 4,
 "nbformat_minor": 2
}
